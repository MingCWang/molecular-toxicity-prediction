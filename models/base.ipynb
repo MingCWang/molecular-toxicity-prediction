{
 "cells": [
  {
   "cell_type": "markdown",
   "metadata": {
    "id": "59qfiDHHeyin"
   },
   "source": [
    "# Project 3\n",
    "The prediction of molecular properties is an important task in drug discovery. The molecules' atomic composition and arrangement can already tell us a lot about their biological behavior. Each 2D molecule can be represented as a graph, where the nodes are atoms connected by edges corresponding to chemical bonds. The prediction of molecular properties can be formulized as a graph classification task, and graph neural network is usually applied for making graph-level prediction.\n",
    "\n",
    "In this project, you need develop a model for predicting the toxicity of new molecules. This notebook provides a sample pipeline that establishes a baseline. It is expected that your methods should outperform this baseline. You are strongly encouraged to think about designing more powerful models, finetuning hyperparameters, developing better training strategies, etc."
   ]
  },
  {
   "cell_type": "markdown",
   "metadata": {
    "id": "JTCASsyypP4K"
   },
   "source": [
    "# Install package"
   ]
  },
  {
   "cell_type": "code",
   "execution_count": 1,
   "metadata": {
    "colab": {
     "base_uri": "https://localhost:8080/"
    },
    "id": "G1peiPgqo5IX",
    "outputId": "e7e622b4-bf1c-4257-d174-0bdcb90cdee5"
   },
   "outputs": [
    {
     "name": "stdout",
     "output_type": "stream",
     "text": [
      "Requirement already satisfied: torch_geometric in ./.venv/lib/python3.9/site-packages (2.4.0)\n",
      "Requirement already satisfied: scipy in ./.venv/lib/python3.9/site-packages (from torch_geometric) (1.11.4)\n",
      "Requirement already satisfied: scikit-learn in ./.venv/lib/python3.9/site-packages (from torch_geometric) (1.3.2)\n",
      "Requirement already satisfied: psutil>=5.8.0 in ./.venv/lib/python3.9/site-packages (from torch_geometric) (5.9.6)\n",
      "Requirement already satisfied: pyparsing in ./.venv/lib/python3.9/site-packages (from torch_geometric) (3.1.1)\n",
      "Requirement already satisfied: numpy in ./.venv/lib/python3.9/site-packages (from torch_geometric) (1.26.2)\n",
      "Requirement already satisfied: tqdm in ./.venv/lib/python3.9/site-packages (from torch_geometric) (4.66.1)\n",
      "Requirement already satisfied: jinja2 in ./.venv/lib/python3.9/site-packages (from torch_geometric) (3.1.2)\n",
      "Requirement already satisfied: requests in ./.venv/lib/python3.9/site-packages (from torch_geometric) (2.31.0)\n",
      "Requirement already satisfied: MarkupSafe>=2.0 in ./.venv/lib/python3.9/site-packages (from jinja2->torch_geometric) (2.1.3)\n",
      "Requirement already satisfied: certifi>=2017.4.17 in ./.venv/lib/python3.9/site-packages (from requests->torch_geometric) (2023.11.17)\n",
      "Requirement already satisfied: charset-normalizer<4,>=2 in ./.venv/lib/python3.9/site-packages (from requests->torch_geometric) (3.3.2)\n",
      "Requirement already satisfied: urllib3<3,>=1.21.1 in ./.venv/lib/python3.9/site-packages (from requests->torch_geometric) (2.1.0)\n",
      "Requirement already satisfied: idna<4,>=2.5 in ./.venv/lib/python3.9/site-packages (from requests->torch_geometric) (3.6)\n",
      "Requirement already satisfied: joblib>=1.1.1 in ./.venv/lib/python3.9/site-packages (from scikit-learn->torch_geometric) (1.3.2)\n",
      "Requirement already satisfied: threadpoolctl>=2.0.0 in ./.venv/lib/python3.9/site-packages (from scikit-learn->torch_geometric) (3.2.0)\n",
      "\u001b[33mWARNING: You are using pip version 21.2.4; however, version 23.3.1 is available.\n",
      "You should consider upgrading via the '/Users/minstonewang/Desktop/project-3/.venv/bin/python -m pip install --upgrade pip' command.\u001b[0m\n",
      "Note: you may need to restart the kernel to use updated packages.\n",
      "Requirement already satisfied: rdkit-pypi in ./.venv/lib/python3.9/site-packages (2022.9.5)\n",
      "Requirement already satisfied: Pillow in ./.venv/lib/python3.9/site-packages (from rdkit-pypi) (10.1.0)\n",
      "Requirement already satisfied: numpy in ./.venv/lib/python3.9/site-packages (from rdkit-pypi) (1.26.2)\n",
      "\u001b[33mWARNING: You are using pip version 21.2.4; however, version 23.3.1 is available.\n",
      "You should consider upgrading via the '/Users/minstonewang/Desktop/project-3/.venv/bin/python -m pip install --upgrade pip' command.\u001b[0m\n",
      "Note: you may need to restart the kernel to use updated packages.\n",
      "Requirement already satisfied: torch in ./.venv/lib/python3.9/site-packages (2.1.1)\n",
      "Requirement already satisfied: fsspec in ./.venv/lib/python3.9/site-packages (from torch) (2023.10.0)\n",
      "Requirement already satisfied: networkx in ./.venv/lib/python3.9/site-packages (from torch) (3.2.1)\n",
      "Requirement already satisfied: sympy in ./.venv/lib/python3.9/site-packages (from torch) (1.12)\n",
      "Requirement already satisfied: jinja2 in ./.venv/lib/python3.9/site-packages (from torch) (3.1.2)\n",
      "Requirement already satisfied: typing-extensions in ./.venv/lib/python3.9/site-packages (from torch) (4.8.0)\n",
      "Requirement already satisfied: filelock in ./.venv/lib/python3.9/site-packages (from torch) (3.13.1)\n",
      "Requirement already satisfied: MarkupSafe>=2.0 in ./.venv/lib/python3.9/site-packages (from jinja2->torch) (2.1.3)\n",
      "Requirement already satisfied: mpmath>=0.19 in ./.venv/lib/python3.9/site-packages (from sympy->torch) (1.3.0)\n",
      "\u001b[33mWARNING: You are using pip version 21.2.4; however, version 23.3.1 is available.\n",
      "You should consider upgrading via the '/Users/minstonewang/Desktop/project-3/.venv/bin/python -m pip install --upgrade pip' command.\u001b[0m\n",
      "Note: you may need to restart the kernel to use updated packages.\n"
     ]
    }
   ],
   "source": [
    "# New these two packages\n",
    "%pip install torch_geometric\n",
    "%pip install rdkit-pypi\n",
    "%pip install torch "
   ]
  },
  {
   "cell_type": "markdown",
   "metadata": {
    "id": "cQLM3rMTpu6r"
   },
   "source": [
    "# Some tutorials.\n",
    "\n",
    "\n",
    "\n",
    "1.   Pytorch geometric package: https://pytorch-geometric.readthedocs.io/en/latest/get_started/introduction.html\n",
    "2.   PyTorch Geometric for Graph-Based Molecular Property Prediction using MoleculeNet benchmark: https://medium.com/@nikopavl4/pytorch-geometric-for-graph-based-molecular-property-prediction-using-moleculenet-benchmark-41e36369d3c6\n",
    "3. Graph neural networks for graph classification. https://colab.research.google.com/drive/1I8a0DfQ3fI7Njc62__mVXUlcAleUclnb?usp=sharing\n",
    "4. Related github repository on molecular property predictions. https://github.com/yifeiwang15/MotifConv/tree/main/MCM_for_molecule_benchmarks\n",
    "\n",
    "\n",
    "## What are node and edge features in a molecule.\n",
    "\n",
    "### Node features:\n",
    "\n",
    "**Atomic number**: Number of protons in the nucleus of an atom. It’s characteristic of a chemical element and determines its place in the periodic table.\n",
    "\n",
    "**Chirality**: A molecule is chiral if it is distinguishable from its mirror image by any combination of rotations, translations, and some conformational changes. Different types of chirality exist depending on the molecule and the arrangement of the atoms.\n",
    "\n",
    "**Degree**: Number of directly-bonded neighbors of the atom.\n",
    "Formal charge: Charge assigned to an atom. It reflects the electron count associated with the atom compared to the isolated neutral atom.\n",
    "\n",
    "**Number of H**: Total number of hydrogen atoms on the atom.\n",
    "Number of radical e: Number of unpaired electrons of the atom.\n",
    "\n",
    "**Hybridization**: Atom’s hybridization.\n",
    "\n",
    "**Is aromatic**: Whether it is included in a cyclic structure with pi bonds. This type of structure tends to be very stable in comparison with other geometric arrangements of the same atoms.\n",
    "\n",
    "**Is in ring**: Whether it is included in a ring (a simple cycle of atoms and bonds in a molecule).\n",
    "\n",
    "### Edge features:\n",
    "\n",
    "**Bond type:**: Whether the bond is single, double, triple, or aromatic.\n",
    "\n",
    "**Stereo Type:** Stereo configuration of the bond.\n",
    "\n",
    "**Is conjugated**: Whether or not the bond is considered to be conjugated.\n",
    "\n"
   ]
  },
  {
   "cell_type": "markdown",
   "metadata": {
    "id": "0054Ib-4Vfaj"
   },
   "source": [
    "# Dataset preparation and train-valid splitting."
   ]
  },
  {
   "cell_type": "code",
   "execution_count": 2,
   "metadata": {
    "id": "atIc86zFnj0c"
   },
   "outputs": [],
   "source": [
    "import torch\n",
    "import torch_geometric\n",
    "import numpy as np\n",
    "from torch_geometric.data import Data\n",
    "from torch_geometric.data import DataLoader\n",
    "from torch_geometric.datasets import MoleculeNet\n",
    "import pickle"
   ]
  },
  {
   "cell_type": "code",
   "execution_count": 3,
   "metadata": {
    "colab": {
     "base_uri": "https://localhost:8080/"
    },
    "id": "wqVa56ajntas",
    "outputId": "6a4b393f-2369-4aa7-9a04-40edc8ac3bfd"
   },
   "outputs": [
    {
     "name": "stdout",
     "output_type": "stream",
     "text": [
      "Size of training set: 6264\n",
      "Size of validation set: 783\n",
      "Size of test set: 784\n"
     ]
    }
   ],
   "source": [
    "# Load datasets. The training and validation sets contain both molecules and their property labels. The test set only contain molecules.\n",
    "# There are 12 property tasks for prediction. Some properties labels are missing (i.e., nan). You can ignore them.\n",
    "train_dataset = torch.load(\"train_data.pt\")\n",
    "valid_dataset = torch.load(\"valid_data.pt\")\n",
    "test_dataset = torch.load(\"test_data.pt\")\n",
    "\n",
    "print(f'Size of training set: {len(train_dataset)}')\n",
    "print(f'Size of validation set: {len(valid_dataset)}')\n",
    "print(f'Size of test set: {len(test_dataset)}')"
   ]
  },
  {
   "cell_type": "code",
   "execution_count": 4,
   "metadata": {
    "colab": {
     "base_uri": "https://localhost:8080/"
    },
    "id": "dQRRylPsVYKn",
    "outputId": "8230bbf8-db6d-4bf5-fd28-cd754afb2679"
   },
   "outputs": [
    {
     "name": "stdout",
     "output_type": "stream",
     "text": [
      "Data(x=[11, 9], edge_index=[2, 20], edge_attr=[20, 3], y=[1, 12], smiles='CC(O)(P(=O)(O)O)P(=O)(O)O')\n",
      "Get node feature matrix:\n",
      "tensor([[ 6,  0,  4,  5,  3,  0,  4,  0,  0],\n",
      "        [ 6,  0,  4,  5,  0,  0,  4,  0,  0],\n",
      "        [ 8,  0,  2,  5,  1,  0,  4,  0,  0],\n",
      "        [15,  0,  4,  5,  0,  0,  4,  0,  0],\n",
      "        [ 8,  0,  1,  5,  0,  0,  3,  0,  0],\n",
      "        [ 8,  0,  2,  5,  1,  0,  4,  0,  0],\n",
      "        [ 8,  0,  2,  5,  1,  0,  4,  0,  0],\n",
      "        [15,  0,  4,  5,  0,  0,  4,  0,  0],\n",
      "        [ 8,  0,  1,  5,  0,  0,  3,  0,  0],\n",
      "        [ 8,  0,  2,  5,  1,  0,  4,  0,  0],\n",
      "        [ 8,  0,  2,  5,  1,  0,  4,  0,  0]])\n",
      "torch.Size([11, 9])\n",
      "Get edge index matrix:\n",
      "tensor([[ 0,  1,  1,  1,  1,  2,  3,  3,  3,  3,  4,  5,  6,  7,  7,  7,  7,  8,\n",
      "          9, 10],\n",
      "        [ 1,  0,  2,  3,  7,  1,  1,  4,  5,  6,  3,  3,  3,  1,  8,  9, 10,  7,\n",
      "          7,  7]])\n",
      "torch.Size([2, 20])\n",
      "Get edge attribute matrix:\n",
      "tensor([[1, 0, 0],\n",
      "        [1, 0, 0],\n",
      "        [1, 0, 0],\n",
      "        [1, 0, 0],\n",
      "        [1, 0, 0],\n",
      "        [1, 0, 0],\n",
      "        [1, 0, 0],\n",
      "        [2, 0, 0],\n",
      "        [1, 0, 0],\n",
      "        [1, 0, 0],\n",
      "        [2, 0, 0],\n",
      "        [1, 0, 0],\n",
      "        [1, 0, 0],\n",
      "        [1, 0, 0],\n",
      "        [2, 0, 0],\n",
      "        [1, 0, 0],\n",
      "        [1, 0, 0],\n",
      "        [2, 0, 0],\n",
      "        [1, 0, 0],\n",
      "        [1, 0, 0]])\n",
      "torch.Size([20, 3])\n",
      "Get molecular property labels:\n",
      "tensor([[0., 0., 0., 0., 0., 0., 0., 0., 0., 0., 0., 0.]])\n",
      "torch.Size([1, 12])\n"
     ]
    }
   ],
   "source": [
    "# one graph example\n",
    "g = train_dataset[0]\n",
    "print(g)\n",
    "\n",
    "print(\"Get node feature matrix:\")\n",
    "print(g.x)\n",
    "print(g.x.shape) # (num_of_nodes, num_of_node_features)\n",
    "\n",
    "print(\"Get edge index matrix:\")\n",
    "print(g.edge_index)\n",
    "print(g.edge_index.shape) # (2, num_of_edges)\n",
    "\n",
    "print(\"Get edge attribute matrix:\")\n",
    "print(g.edge_attr)\n",
    "print(g.edge_attr.shape) # (num_of_edges, num_of_edge_features)\n",
    "\n",
    "print(\"Get molecular property labels:\")\n",
    "print(g.y)\n",
    "print(g.y.shape) # (1, 12)"
   ]
  },
  {
   "cell_type": "markdown",
   "metadata": {
    "id": "cilgcBXdCNS3"
   },
   "source": [
    "As we can observe, we have 11 nodes (rows) and each node has 9 features (columns). However, the features provided by Moleculenet are discrete and of type long, so we need to convert them first to continuous embeddings in order to feed them in any ML model.\n",
    "\n",
    "For example, the first column indicates the atomic number of a node, where 1 represents Hydrogen, 6 represents Carbon, 8 for Oxygen, according to periodic table of elements."
   ]
  },
  {
   "cell_type": "code",
   "execution_count": 5,
   "metadata": {
    "colab": {
     "base_uri": "https://localhost:8080/"
    },
    "id": "AZLIUrqobxY3",
    "outputId": "aafde21f-b0ec-4df3-99f5-8f25b2966f42"
   },
   "outputs": [
    {
     "name": "stderr",
     "output_type": "stream",
     "text": [
      "/Users/minstonewang/Desktop/project-3/.venv/lib/python3.9/site-packages/torch_geometric/deprecation.py:22: UserWarning: 'data.DataLoader' is deprecated, use 'loader.DataLoader' instead\n",
      "  warnings.warn(out)\n"
     ]
    }
   ],
   "source": [
    "# Example of preparing data loaders.\n",
    "# You can use any batch size and see what happens in model performance.\n",
    "\n",
    "from torch_geometric.data import DataLoader\n",
    "\n",
    "batch_size=32\n",
    "train_loader = DataLoader(train_dataset, batch_size=batch_size, shuffle=True)\n",
    "val_loader = DataLoader(valid_dataset, batch_size=batch_size, shuffle=False)\n",
    "test_loader = DataLoader(test_dataset, batch_size=batch_size, shuffle=False)"
   ]
  },
  {
   "cell_type": "code",
   "execution_count": 6,
   "metadata": {
    "colab": {
     "base_uri": "https://localhost:8080/"
    },
    "id": "Wdzj4S9Jds3m",
    "outputId": "9d22b922-9c93-43a6-9263-1ebf2579f701"
   },
   "outputs": [
    {
     "name": "stdout",
     "output_type": "stream",
     "text": [
      "DataBatch(x=[562, 9], edge_index=[2, 1150], edge_attr=[1150, 3], y=[32, 12], smiles=[32], batch=[562], ptr=[33])\n"
     ]
    }
   ],
   "source": [
    "# Example of creating one mini-batch\n",
    "# See more info about mini-batch in pytorch geometric in https://pytorch-geometric.readthedocs.io/en/latest/get_started/introduction.html\n",
    "batch = next(iter(train_loader))\n",
    "print(batch)"
   ]
  },
  {
   "cell_type": "markdown",
   "metadata": {
    "id": "Mc2_Mytlhn5P"
   },
   "source": [
    "# Visualization of molecules"
   ]
  },
  {
   "cell_type": "code",
   "execution_count": 7,
   "metadata": {
    "colab": {
     "base_uri": "https://localhost:8080/",
     "height": 167
    },
    "id": "BNoZJPN0ic5S",
    "outputId": "cfa92541-b0ef-4029-f4da-67d0b58ea952"
   },
   "outputs": [
    {
     "data": {
      "image/png": "[encoded data removed]",
      "text/plain": [
       "<rdkit.Chem.rdchem.Mol at 0x17fbc8350>"
      ]
     },
     "execution_count": 7,
     "metadata": {},
     "output_type": "execute_result"
    }
   ],
   "source": [
    "# visualize one 2D molecule.\n",
    "from rdkit import Chem\n",
    "Chem.MolFromSmiles(g.smiles)"
   ]
  },
  {
   "cell_type": "markdown",
   "metadata": {
    "id": "M3O_MZj_TjJ7"
   },
   "source": [
    "# Build model"
   ]
  },
  {
   "cell_type": "code",
   "execution_count": 8,
   "metadata": {
    "id": "0Agk424bTnmZ"
   },
   "outputs": [],
   "source": [
    "# Atom encoder\n",
    "\n",
    "class AtomEncoder(torch.nn.Module):\n",
    "    def __init__(self, hidden_channels):\n",
    "        super(AtomEncoder, self).__init__()\n",
    "\n",
    "        self.embeddings = torch.nn.ModuleList()\n",
    "\n",
    "        for i in range(9):\n",
    "            self.embeddings.append(torch.nn.Embedding(100, hidden_channels))\n",
    "\n",
    "    def reset_parameters(self):\n",
    "        for embedding in self.embeddings:\n",
    "            embedding.reset_parameters()\n",
    "\n",
    "    def forward(self, x):\n",
    "        if x.dim() == 1:\n",
    "            x = x.unsqueeze(1)\n",
    "\n",
    "        out = 0\n",
    "        for i in range(x.size(1)):\n",
    "            out += self.embeddings[i](x[:, i])\n",
    "        return out\n",
    "\n",
    "\n",
    "# A simple graph neural network model\n",
    "\n",
    "from torch_geometric.nn import GCNConv\n",
    "from torch_geometric.nn import global_mean_pool as gap\n",
    "import torch.nn.functional as F\n",
    "from torch.nn import Linear\n",
    "class GCN(torch.nn.Module):\n",
    "    def __init__(self, hidden_channels, num_node_features, num_classes):\n",
    "        super(GCN, self).__init__()\n",
    "        torch.manual_seed(42)\n",
    "        self.emb = AtomEncoder(hidden_channels=32)\n",
    "        self.conv1 = GCNConv(hidden_channels,hidden_channels)\n",
    "        self.conv2 = GCNConv(hidden_channels, hidden_channels)\n",
    "        self.conv3 = GCNConv(hidden_channels, hidden_channels)\n",
    "        self.lin = Linear(hidden_channels, num_classes)\n",
    "\n",
    "    def forward(self, batch):\n",
    "        x , edge_index, batch_size = batch.x, batch.edge_index, batch.batch\n",
    "        x = self.emb(x)\n",
    "        # 1. Obtain node embeddings\n",
    "        x = self.conv1(x, edge_index)\n",
    "        x = x.relu()\n",
    "        x = self.conv2(x, edge_index)\n",
    "        x = x.relu()\n",
    "        x = self.conv3(x, edge_index)\n",
    "\n",
    "        # 2. Readout layer\n",
    "        x = gap(x, batch_size)  # [batch_size, hidden_channels]\n",
    "        # 3. Apply a final classifier\n",
    "        x = F.dropout(x, p=0.5, training=self.training)\n",
    "        x = self.lin(x)\n",
    "        return x"
   ]
  },
  {
   "cell_type": "code",
   "execution_count": 9,
   "metadata": {
    "colab": {
     "base_uri": "https://localhost:8080/"
    },
    "id": "kyi8ZC9YUCUS",
    "outputId": "112420f1-d6a0-4cec-b235-22f811683e12"
   },
   "outputs": [
    {
     "name": "stdout",
     "output_type": "stream",
     "text": [
      "torch.Size([32, 12])\n"
     ]
    }
   ],
   "source": [
    "# create a model\n",
    "model = GCN(32, 9, 12)\n",
    "\n",
    "# prediction\n",
    "out = model(batch)\n",
    "print(out.shape) #(num_of_graph, num_of_task)\n"
   ]
  },
  {
   "cell_type": "markdown",
   "metadata": {
    "id": "QIAfufrpuKAm"
   },
   "source": [
    "# Start training"
   ]
  },
  {
   "cell_type": "code",
   "execution_count": 10,
   "metadata": {
    "id": "vCQE_TIoUw4x"
   },
   "outputs": [],
   "source": [
    "# loss function and optimizer\n",
    "import torch.nn as nn\n",
    "import torch.optim as optim\n",
    "optimizer = optim.Adam(model.parameters(), lr=0.001)\n",
    "\n",
    "criterion = nn.BCEWithLogitsLoss(reduction = \"none\")"
   ]
  },
  {
   "cell_type": "code",
   "execution_count": 11,
   "metadata": {
    "id": "6SL3fUw4VD38"
   },
   "outputs": [],
   "source": [
    "# train and eval function\n",
    "from sklearn.metrics import roc_auc_score\n",
    "def train(model, device, loader, optimizer):\n",
    "    model.train()\n",
    "\n",
    "    for step, batch in enumerate(loader):\n",
    "        batch = batch.to(device)\n",
    "        pred = model(batch)\n",
    "        y = batch.y.view(pred.shape).to(torch.float64)\n",
    "\n",
    "        optimizer.zero_grad()\n",
    "        ## ignore nan targets (unlabeled) when computing training loss.\n",
    "        is_labeled = batch.y == batch.y\n",
    "        loss = criterion(pred.to(torch.float32)[is_labeled], batch.y.to(torch.float32)[is_labeled]).mean()\n",
    "        loss.backward()\n",
    "        optimizer.step()\n",
    "\n",
    "\n",
    "\n",
    "def eval(model, device, loader):\n",
    "    model.eval()\n",
    "    y_true = []\n",
    "    y_pred = []\n",
    "    # For every batch in test loader\n",
    "    for batch in loader:\n",
    "\n",
    "        batch = batch.to(device)\n",
    "        if batch.x.shape[0] == 1:\n",
    "            pass\n",
    "        else:\n",
    "            with torch.no_grad():\n",
    "                pred = model(batch)\n",
    "\n",
    "            y_true.append(batch.y.view(pred.shape))\n",
    "            y_pred.append(pred)\n",
    "\n",
    "    y_true = torch.cat(y_true, dim = 0).numpy()\n",
    "    y_pred = torch.cat(y_pred, dim = 0).numpy()\n",
    "    # Compute the ROC - AUC score and store as history\n",
    "    rocauc_list = []\n",
    "\n",
    "    for i in range(y_true.shape[1]):\n",
    "        #AUC is only defined when there is at least one positive data.\n",
    "        if np.sum(y_true[:,i] == 1) > 0 and np.sum(y_true[:,i] == 0) > 0:\n",
    "            # ignore nan values\n",
    "            is_labeled = y_true[:,i] == y_true[:,i]\n",
    "            rocauc_list.append(roc_auc_score(y_true[is_labeled,i], y_pred[is_labeled,i]))\n",
    "\n",
    "    if len(rocauc_list) == 0:\n",
    "        raise RuntimeError('No positively labeled data available. Cannot compute ROC-AUC.')\n",
    "\n",
    "    return {'rocauc': sum(rocauc_list)/len(rocauc_list)}\n"
   ]
  },
  {
   "cell_type": "code",
   "execution_count": 13,
   "metadata": {
    "colab": {
     "base_uri": "https://localhost:8080/"
    },
    "id": "yYM7x48bZugM",
    "outputId": "39bdfa93-9de4-4510-e911-122dc9eb1437"
   },
   "outputs": [
    {
     "name": "stdout",
     "output_type": "stream",
     "text": [
      "Start training...\n",
      "====epoch 1\n",
      "{'Train': {'rocauc': 0.7514420590164761}, 'Validation': {'rocauc': 0.7213717767304942}}\n",
      "====epoch 2\n",
      "{'Train': {'rocauc': 0.7564321593831727}, 'Validation': {'rocauc': 0.7238715198685467}}\n",
      "====epoch 3\n",
      "{'Train': {'rocauc': 0.7517691255035679}, 'Validation': {'rocauc': 0.7261025195539416}}\n",
      "====epoch 4\n",
      "{'Train': {'rocauc': 0.76583117039781}, 'Validation': {'rocauc': 0.7319857830256032}}\n",
      "====epoch 5\n",
      "{'Train': {'rocauc': 0.7702445141721893}, 'Validation': {'rocauc': 0.7317618656918464}}\n",
      "====epoch 6\n",
      "{'Train': {'rocauc': 0.7716123750196169}, 'Validation': {'rocauc': 0.7337105198513694}}\n",
      "====epoch 7\n",
      "{'Train': {'rocauc': 0.7731419711141658}, 'Validation': {'rocauc': 0.7352989549593348}}\n",
      "====epoch 8\n",
      "{'Train': {'rocauc': 0.7824856744904162}, 'Validation': {'rocauc': 0.7335948401875404}}\n",
      "====epoch 9\n",
      "{'Train': {'rocauc': 0.7840837525638324}, 'Validation': {'rocauc': 0.7395933306900085}}\n",
      "====epoch 10\n",
      "{'Train': {'rocauc': 0.7826451540619405}, 'Validation': {'rocauc': 0.740728789946528}}\n",
      "====epoch 11\n",
      "{'Train': {'rocauc': 0.7900844794787728}, 'Validation': {'rocauc': 0.7406334223663452}}\n",
      "====epoch 12\n",
      "{'Train': {'rocauc': 0.7908290464991875}, 'Validation': {'rocauc': 0.7431721283198839}}\n",
      "====epoch 13\n",
      "{'Train': {'rocauc': 0.7863546838994674}, 'Validation': {'rocauc': 0.7427985344924847}}\n",
      "====epoch 14\n",
      "{'Train': {'rocauc': 0.7936795148249809}, 'Validation': {'rocauc': 0.7446816189421043}}\n",
      "====epoch 15\n",
      "{'Train': {'rocauc': 0.7938245282630833}, 'Validation': {'rocauc': 0.7463807064296027}}\n",
      "====epoch 16\n",
      "{'Train': {'rocauc': 0.8019835273103495}, 'Validation': {'rocauc': 0.7452308430994589}}\n",
      "====epoch 17\n",
      "{'Train': {'rocauc': 0.7929786076972899}, 'Validation': {'rocauc': 0.7444325693878705}}\n",
      "====epoch 18\n",
      "{'Train': {'rocauc': 0.7998348267437528}, 'Validation': {'rocauc': 0.7449957022021162}}\n",
      "====epoch 19\n",
      "{'Train': {'rocauc': 0.7965230264797417}, 'Validation': {'rocauc': 0.7474608425267446}}\n",
      "====epoch 20\n",
      "{'Train': {'rocauc': 0.8007389135519141}, 'Validation': {'rocauc': 0.7452860819778171}}\n",
      "====epoch 21\n",
      "{'Train': {'rocauc': 0.809204017194121}, 'Validation': {'rocauc': 0.7494978634389703}}\n",
      "====epoch 22\n",
      "{'Train': {'rocauc': 0.8092367080412549}, 'Validation': {'rocauc': 0.7491513261319649}}\n",
      "====epoch 23\n",
      "{'Train': {'rocauc': 0.808277451794591}, 'Validation': {'rocauc': 0.7507810610351143}}\n",
      "====epoch 24\n",
      "{'Train': {'rocauc': 0.8088281250799677}, 'Validation': {'rocauc': 0.748902335781288}}\n",
      "====epoch 25\n",
      "{'Train': {'rocauc': 0.8131912875694631}, 'Validation': {'rocauc': 0.7465064525358568}}\n",
      "====epoch 26\n",
      "{'Train': {'rocauc': 0.8106511300876345}, 'Validation': {'rocauc': 0.7518015851325494}}\n",
      "====epoch 27\n",
      "{'Train': {'rocauc': 0.8103214950245906}, 'Validation': {'rocauc': 0.7497047889268743}}\n",
      "====epoch 28\n",
      "{'Train': {'rocauc': 0.818643366242591}, 'Validation': {'rocauc': 0.7534739826099496}}\n",
      "====epoch 29\n",
      "{'Train': {'rocauc': 0.817805089561895}, 'Validation': {'rocauc': 0.7505220628822854}}\n",
      "====epoch 30\n",
      "{'Train': {'rocauc': 0.8164384980387366}, 'Validation': {'rocauc': 0.7494005541705379}}\n",
      "====epoch 31\n",
      "{'Train': {'rocauc': 0.8194190543217316}, 'Validation': {'rocauc': 0.7528447969514791}}\n",
      "====epoch 32\n",
      "{'Train': {'rocauc': 0.8159546546587921}, 'Validation': {'rocauc': 0.7488736115078153}}\n",
      "====epoch 33\n",
      "{'Train': {'rocauc': 0.8231083191213018}, 'Validation': {'rocauc': 0.753243587691796}}\n",
      "====epoch 34\n",
      "{'Train': {'rocauc': 0.8243682757670361}, 'Validation': {'rocauc': 0.7452715124744788}}\n",
      "====epoch 35\n",
      "{'Train': {'rocauc': 0.8234783533750547}, 'Validation': {'rocauc': 0.7558074001610519}}\n",
      "====epoch 36\n",
      "{'Train': {'rocauc': 0.8262623772948864}, 'Validation': {'rocauc': 0.7516812025444195}}\n",
      "====epoch 37\n",
      "{'Train': {'rocauc': 0.8297006331177871}, 'Validation': {'rocauc': 0.7519951602759366}}\n",
      "====epoch 38\n",
      "{'Train': {'rocauc': 0.8313625640205994}, 'Validation': {'rocauc': 0.757869033879854}}\n",
      "====epoch 39\n",
      "{'Train': {'rocauc': 0.8330671690527716}, 'Validation': {'rocauc': 0.7539486908989855}}\n",
      "====epoch 40\n",
      "{'Train': {'rocauc': 0.832822515976333}, 'Validation': {'rocauc': 0.7573700194988167}}\n",
      "====epoch 41\n",
      "{'Train': {'rocauc': 0.8349263683958309}, 'Validation': {'rocauc': 0.7548459605325264}}\n",
      "====epoch 42\n",
      "{'Train': {'rocauc': 0.8334616165835377}, 'Validation': {'rocauc': 0.7588956130654902}}\n",
      "====epoch 43\n",
      "{'Train': {'rocauc': 0.8358143670659627}, 'Validation': {'rocauc': 0.7576925882233575}}\n",
      "====epoch 44\n",
      "{'Train': {'rocauc': 0.8367114187628334}, 'Validation': {'rocauc': 0.7557234448307016}}\n",
      "====epoch 45\n",
      "{'Train': {'rocauc': 0.8398933413919584}, 'Validation': {'rocauc': 0.7571225936377464}}\n",
      "====epoch 46\n",
      "{'Train': {'rocauc': 0.8383633234521061}, 'Validation': {'rocauc': 0.7552897360056013}}\n",
      "====epoch 47\n",
      "{'Train': {'rocauc': 0.8401627456914219}, 'Validation': {'rocauc': 0.758017840998293}}\n",
      "====epoch 48\n",
      "{'Train': {'rocauc': 0.838748877204783}, 'Validation': {'rocauc': 0.7585858084169685}}\n",
      "====epoch 49\n",
      "{'Train': {'rocauc': 0.8401120023177976}, 'Validation': {'rocauc': 0.7598057377324167}}\n",
      "====epoch 50\n",
      "{'Train': {'rocauc': 0.8381807404217158}, 'Validation': {'rocauc': 0.7611516661082538}}\n",
      "====epoch 51\n",
      "{'Train': {'rocauc': 0.8396189605078539}, 'Validation': {'rocauc': 0.7589014099572168}}\n",
      "====epoch 52\n",
      "{'Train': {'rocauc': 0.8451380050641344}, 'Validation': {'rocauc': 0.7542024441124368}}\n",
      "====epoch 53\n",
      "{'Train': {'rocauc': 0.8418707861552887}, 'Validation': {'rocauc': 0.7594397578394841}}\n",
      "====epoch 54\n",
      "{'Train': {'rocauc': 0.8468018996587398}, 'Validation': {'rocauc': 0.7615613625765872}}\n",
      "====epoch 55\n",
      "{'Train': {'rocauc': 0.8450026088408477}, 'Validation': {'rocauc': 0.7636642865975759}}\n",
      "====epoch 56\n",
      "{'Train': {'rocauc': 0.8454814089914259}, 'Validation': {'rocauc': 0.7528037038769707}}\n",
      "====epoch 57\n",
      "{'Train': {'rocauc': 0.8417687625308794}, 'Validation': {'rocauc': 0.763135015676215}}\n",
      "====epoch 58\n",
      "{'Train': {'rocauc': 0.8507394922881449}, 'Validation': {'rocauc': 0.7599909613496895}}\n",
      "====epoch 59\n",
      "{'Train': {'rocauc': 0.8504380457091463}, 'Validation': {'rocauc': 0.7620110074673008}}\n",
      "====epoch 60\n",
      "{'Train': {'rocauc': 0.8444274319052695}, 'Validation': {'rocauc': 0.7645792383456089}}\n",
      "====epoch 61\n",
      "{'Train': {'rocauc': 0.8501658626761759}, 'Validation': {'rocauc': 0.7575834333049726}}\n",
      "====epoch 62\n",
      "{'Train': {'rocauc': 0.8460173583246058}, 'Validation': {'rocauc': 0.762798334595673}}\n",
      "====epoch 63\n",
      "{'Train': {'rocauc': 0.8508753398851306}, 'Validation': {'rocauc': 0.7482815084715043}}\n",
      "====epoch 64\n",
      "{'Train': {'rocauc': 0.8523552463803297}, 'Validation': {'rocauc': 0.7615403950832208}}\n",
      "====epoch 65\n",
      "{'Train': {'rocauc': 0.8554638834556919}, 'Validation': {'rocauc': 0.7655009751091782}}\n",
      "====epoch 66\n",
      "{'Train': {'rocauc': 0.8542162327201321}, 'Validation': {'rocauc': 0.7612217674345129}}\n",
      "====epoch 67\n",
      "{'Train': {'rocauc': 0.8513728135313361}, 'Validation': {'rocauc': 0.7617098082573355}}\n",
      "====epoch 68\n",
      "{'Train': {'rocauc': 0.8571816586332014}, 'Validation': {'rocauc': 0.7636131473960216}}\n",
      "====epoch 69\n",
      "{'Train': {'rocauc': 0.8509368271021187}, 'Validation': {'rocauc': 0.7557222847121632}}\n",
      "====epoch 70\n",
      "{'Train': {'rocauc': 0.8565682348066498}, 'Validation': {'rocauc': 0.7638821403946466}}\n",
      "====epoch 71\n",
      "{'Train': {'rocauc': 0.8564977979803546}, 'Validation': {'rocauc': 0.7644529449500143}}\n",
      "====epoch 72\n",
      "{'Train': {'rocauc': 0.8560679619656009}, 'Validation': {'rocauc': 0.7585349847414773}}\n",
      "====epoch 73\n",
      "{'Train': {'rocauc': 0.8587020755297915}, 'Validation': {'rocauc': 0.7539399916425132}}\n",
      "====epoch 74\n",
      "{'Train': {'rocauc': 0.8544310147915756}, 'Validation': {'rocauc': 0.7549529973509896}}\n",
      "====epoch 75\n",
      "{'Train': {'rocauc': 0.8575472164182344}, 'Validation': {'rocauc': 0.7546348056652438}}\n",
      "====epoch 76\n",
      "{'Train': {'rocauc': 0.8606947035884689}, 'Validation': {'rocauc': 0.7571453629742289}}\n",
      "====epoch 77\n",
      "{'Train': {'rocauc': 0.8601089344302717}, 'Validation': {'rocauc': 0.7589036680265515}}\n",
      "====epoch 78\n",
      "{'Train': {'rocauc': 0.853324790044855}, 'Validation': {'rocauc': 0.7635908795865324}}\n",
      "====epoch 79\n",
      "{'Train': {'rocauc': 0.8573983462037358}, 'Validation': {'rocauc': 0.763641257452567}}\n",
      "====epoch 80\n",
      "{'Train': {'rocauc': 0.8633260346668217}, 'Validation': {'rocauc': 0.7563293202280531}}\n",
      "====epoch 81\n",
      "{'Train': {'rocauc': 0.8590096213562753}, 'Validation': {'rocauc': 0.7685340375337956}}\n",
      "====epoch 82\n",
      "{'Train': {'rocauc': 0.8622414081898101}, 'Validation': {'rocauc': 0.7573927161592535}}\n",
      "====epoch 83\n",
      "{'Train': {'rocauc': 0.8619806671589268}, 'Validation': {'rocauc': 0.7623461093392069}}\n",
      "====epoch 84\n",
      "{'Train': {'rocauc': 0.8618691703829424}, 'Validation': {'rocauc': 0.7503304210887989}}\n",
      "====epoch 85\n",
      "{'Train': {'rocauc': 0.8635282845987939}, 'Validation': {'rocauc': 0.7606139083249333}}\n",
      "====epoch 86\n",
      "{'Train': {'rocauc': 0.8626432073810126}, 'Validation': {'rocauc': 0.7588636520410404}}\n",
      "====epoch 87\n",
      "{'Train': {'rocauc': 0.8584918985432397}, 'Validation': {'rocauc': 0.7556890270182733}}\n",
      "====epoch 88\n",
      "{'Train': {'rocauc': 0.8598745451748964}, 'Validation': {'rocauc': 0.7612678858968974}}\n",
      "====epoch 89\n",
      "{'Train': {'rocauc': 0.8645968445152857}, 'Validation': {'rocauc': 0.7564736874169036}}\n",
      "====epoch 90\n",
      "{'Train': {'rocauc': 0.8647453706476155}, 'Validation': {'rocauc': 0.7644880875623065}}\n",
      "====epoch 91\n",
      "{'Train': {'rocauc': 0.860204615405121}, 'Validation': {'rocauc': 0.7516191924727592}}\n",
      "====epoch 92\n",
      "{'Train': {'rocauc': 0.8664959396856192}, 'Validation': {'rocauc': 0.7644222498103024}}\n",
      "====epoch 93\n",
      "{'Train': {'rocauc': 0.8647597718644553}, 'Validation': {'rocauc': 0.7510761712350423}}\n",
      "====epoch 94\n",
      "{'Train': {'rocauc': 0.8669820810760732}, 'Validation': {'rocauc': 0.7546006272747386}}\n",
      "====epoch 95\n",
      "{'Train': {'rocauc': 0.8668479424701198}, 'Validation': {'rocauc': 0.7586436959790208}}\n",
      "====epoch 96\n",
      "{'Train': {'rocauc': 0.8676144446174607}, 'Validation': {'rocauc': 0.7638992422766268}}\n",
      "====epoch 97\n",
      "{'Train': {'rocauc': 0.8641303825073995}, 'Validation': {'rocauc': 0.7571208284127041}}\n",
      "====epoch 98\n",
      "{'Train': {'rocauc': 0.8660533279703916}, 'Validation': {'rocauc': 0.7572887550912223}}\n",
      "====epoch 99\n",
      "{'Train': {'rocauc': 0.8674420330997702}, 'Validation': {'rocauc': 0.7596747602109373}}\n"
     ]
    }
   ],
   "source": [
    "# Training\n",
    "device = torch.device(\"cuda\") if torch.cuda.is_available() else torch.device(\"cpu\")\n",
    "print(\"Start training...\")\n",
    "for epoch in range(1, 100):\n",
    "    print(\"====epoch \" + str(epoch))\n",
    "\n",
    "    # training\n",
    "    train(model, device, train_loader, optimizer)\n",
    "\n",
    "    # evaluating\n",
    "    train_acc = eval(model, device, train_loader)\n",
    "    val_acc = eval(model, device, val_loader)\n",
    "    print({'Train': train_acc, 'Validation': val_acc})\n",
    "\n"
   ]
  },
  {
   "cell_type": "code",
   "execution_count": null,
   "metadata": {
    "id": "I99LMlSa4qSK"
   },
   "outputs": [],
   "source": []
  }
 ],
 "metadata": {
  "colab": {
   "provenance": [],
   "toc_visible": true
  },
  "kernelspec": {
   "display_name": "Python 3 (ipykernel)",
   "language": "python",
   "name": "python3"
  },
  "language_info": {
   "codemirror_mode": {
    "name": "ipython",
    "version": 3
   },
   "file_extension": ".py",
   "mimetype": "text/x-python",
   "name": "python",
   "nbconvert_exporter": "python",
   "pygments_lexer": "ipython3",
   "version": "3.9.6"
  }
 },
 "nbformat": 4,
 "nbformat_minor": 4
}
