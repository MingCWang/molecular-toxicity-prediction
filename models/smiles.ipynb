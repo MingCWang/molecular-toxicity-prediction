{
  "cells": [
    {
      "cell_type": "markdown",
      "metadata": {
        "id": "59qfiDHHeyin"
      },
      "source": [
        "# Project 3\n",
        "The prediction of molecular properties is an important task in drug discovery. The molecules' atomic composition and arrangement can already tell us a lot about their biological behavior. Each 2D molecule can be represented as a graph, where the nodes are atoms connected by edges corresponding to chemical bonds. The prediction of molecular properties can be formulized as a graph classification task, and graph neural network is usually applied for making graph-level prediction.\n",
        "\n",
        "In this project, you need develop a model for predicting the toxicity of new molecules. This notebook provides a sample pipeline that establishes a baseline. It is expected that your methods should outperform this baseline. You are strongly encouraged to think about designing more powerful models, finetuning hyperparameters, developing better training strategies, etc."
      ]
    },
    {
      "cell_type": "markdown",
      "metadata": {
        "id": "JTCASsyypP4K"
      },
      "source": [
        "# Install package"
      ]
    },
    {
      "cell_type": "code",
      "execution_count": 222,
      "metadata": {
        "colab": {
          "base_uri": "https://localhost:8080/"
        },
        "id": "G1peiPgqo5IX",
        "outputId": "be0bcd15-b384-425f-f3f4-200f33dcee38"
      },
      "outputs": [
        {
          "name": "stdout",
          "output_type": "stream",
          "text": [
            "Requirement already satisfied: torch_geometric in ./.venv/lib/python3.11/site-packages (2.4.0)\n",
            "Requirement already satisfied: tqdm in ./.venv/lib/python3.11/site-packages (from torch_geometric) (4.66.1)\n",
            "Requirement already satisfied: numpy in ./.venv/lib/python3.11/site-packages (from torch_geometric) (1.26.2)\n",
            "Requirement already satisfied: scipy in ./.venv/lib/python3.11/site-packages (from torch_geometric) (1.11.4)\n",
            "Requirement already satisfied: jinja2 in ./.venv/lib/python3.11/site-packages (from torch_geometric) (3.1.2)\n",
            "Requirement already satisfied: requests in ./.venv/lib/python3.11/site-packages (from torch_geometric) (2.31.0)\n",
            "Requirement already satisfied: pyparsing in ./.venv/lib/python3.11/site-packages (from torch_geometric) (3.1.1)\n",
            "Requirement already satisfied: scikit-learn in ./.venv/lib/python3.11/site-packages (from torch_geometric) (1.3.2)\n",
            "Requirement already satisfied: psutil>=5.8.0 in ./.venv/lib/python3.11/site-packages (from torch_geometric) (5.9.6)\n",
            "Requirement already satisfied: MarkupSafe>=2.0 in ./.venv/lib/python3.11/site-packages (from jinja2->torch_geometric) (2.1.3)\n",
            "Requirement already satisfied: charset-normalizer<4,>=2 in ./.venv/lib/python3.11/site-packages (from requests->torch_geometric) (3.3.2)\n",
            "Requirement already satisfied: idna<4,>=2.5 in ./.venv/lib/python3.11/site-packages (from requests->torch_geometric) (3.6)\n",
            "Requirement already satisfied: urllib3<3,>=1.21.1 in ./.venv/lib/python3.11/site-packages (from requests->torch_geometric) (2.1.0)\n",
            "Requirement already satisfied: certifi>=2017.4.17 in ./.venv/lib/python3.11/site-packages (from requests->torch_geometric) (2023.11.17)\n",
            "Requirement already satisfied: joblib>=1.1.1 in ./.venv/lib/python3.11/site-packages (from scikit-learn->torch_geometric) (1.3.2)\n",
            "Requirement already satisfied: threadpoolctl>=2.0.0 in ./.venv/lib/python3.11/site-packages (from scikit-learn->torch_geometric) (3.2.0)\n",
            "Requirement already satisfied: rdkit-pypi in ./.venv/lib/python3.11/site-packages (2022.9.5)\n",
            "Requirement already satisfied: numpy in ./.venv/lib/python3.11/site-packages (from rdkit-pypi) (1.26.2)\n",
            "Requirement already satisfied: Pillow in ./.venv/lib/python3.11/site-packages (from rdkit-pypi) (10.1.0)\n",
            "Requirement already satisfied: torch in ./.venv/lib/python3.11/site-packages (2.1.1)\n",
            "Requirement already satisfied: filelock in ./.venv/lib/python3.11/site-packages (from torch) (3.13.1)\n",
            "Requirement already satisfied: typing-extensions in ./.venv/lib/python3.11/site-packages (from torch) (4.9.0)\n",
            "Requirement already satisfied: sympy in ./.venv/lib/python3.11/site-packages (from torch) (1.12)\n",
            "Requirement already satisfied: networkx in ./.venv/lib/python3.11/site-packages (from torch) (3.2.1)\n",
            "Requirement already satisfied: jinja2 in ./.venv/lib/python3.11/site-packages (from torch) (3.1.2)\n",
            "Requirement already satisfied: fsspec in ./.venv/lib/python3.11/site-packages (from torch) (2023.12.1)\n",
            "Requirement already satisfied: MarkupSafe>=2.0 in ./.venv/lib/python3.11/site-packages (from jinja2->torch) (2.1.3)\n",
            "Requirement already satisfied: mpmath>=0.19 in ./.venv/lib/python3.11/site-packages (from sympy->torch) (1.3.0)\n",
            "Note: you may need to restart the kernel to use updated packages.\n"
          ]
        }
      ],
      "source": [
        "# New these two packages\n",
        "!pip install torch_geometric\n",
        "!pip install rdkit-pypi\n",
        "%pip install torch "
      ]
    },
    {
      "cell_type": "markdown",
      "metadata": {
        "id": "0054Ib-4Vfaj"
      },
      "source": [
        "# Dataset preparation and train-valid splitting."
      ]
    },
    {
      "cell_type": "markdown",
      "metadata": {
        "id": "1IkI8sCvk4i1"
      },
      "source": [
        "# Connect to Drive for files"
      ]
    },
    {
      "cell_type": "markdown",
      "metadata": {
        "id": "hfskM8yQk8oQ"
      },
      "source": [
        "# Import necesarry packages"
      ]
    },
    {
      "cell_type": "code",
      "execution_count": 223,
      "metadata": {
        "id": "atIc86zFnj0c"
      },
      "outputs": [],
      "source": [
        "import torch\n",
        "import torch_geometric\n",
        "import numpy as np\n",
        "from torch_geometric.data import Data\n",
        "from torch_geometric.data import DataLoader\n",
        "from torch_geometric.datasets import MoleculeNet\n",
        "import pickle"
      ]
    },
    {
      "cell_type": "code",
      "execution_count": 224,
      "metadata": {
        "colab": {
          "base_uri": "https://localhost:8080/"
        },
        "id": "wqVa56ajntas",
        "outputId": "839ea2c2-47dd-40f6-a836-9fe494eeb872"
      },
      "outputs": [
        {
          "name": "stdout",
          "output_type": "stream",
          "text": [
            "Size of training set: 6264\n",
            "Size of validation set: 783\n",
            "Size of test set: 784\n"
          ]
        }
      ],
      "source": [
        "# Load datasets. The training and validation sets contain both molecules and their property labels. The test set only contain molecules.\n",
        "# There are 12 property tasks for prediction. Some properties labels are missing (i.e., nan). You can ignore them.\n",
        "train_dataset = torch.load(\"train_data.pt\")\n",
        "valid_dataset = torch.load(\"valid_data.pt\")\n",
        "test_dataset = torch.load(\"test_data.pt\")\n",
        "\n",
        "print(f'Size of training set: {len(train_dataset)}')\n",
        "print(f'Size of validation set: {len(valid_dataset)}')\n",
        "print(f'Size of test set: {len(test_dataset)}')"
      ]
    },
    {
      "cell_type": "markdown",
      "metadata": {
        "id": "O1tRFKfk1Gfl"
      },
      "source": [
        "# Just to see the skewedness of the tasks"
      ]
    },
    {
      "cell_type": "markdown",
      "metadata": {
        "id": "IBJ4Wg0_1MvY"
      },
      "source": [
        "# See the shapes of features"
      ]
    },
    {
      "cell_type": "code",
      "execution_count": 225,
      "metadata": {
        "colab": {
          "base_uri": "https://localhost:8080/"
        },
        "id": "dQRRylPsVYKn",
        "outputId": "64a080fc-bc0d-46dd-dc4f-8090c375f8fc"
      },
      "outputs": [
        {
          "name": "stdout",
          "output_type": "stream",
          "text": [
            "Data(x=[11, 9], edge_index=[2, 20], edge_attr=[20, 3], y=[1, 12], smiles='CC(O)(P(=O)(O)O)P(=O)(O)O')\n",
            "Get node feature matrix:\n",
            "tensor([[ 6,  0,  4,  5,  3,  0,  4,  0,  0],\n",
            "        [ 6,  0,  4,  5,  0,  0,  4,  0,  0],\n",
            "        [ 8,  0,  2,  5,  1,  0,  4,  0,  0],\n",
            "        [15,  0,  4,  5,  0,  0,  4,  0,  0],\n",
            "        [ 8,  0,  1,  5,  0,  0,  3,  0,  0],\n",
            "        [ 8,  0,  2,  5,  1,  0,  4,  0,  0],\n",
            "        [ 8,  0,  2,  5,  1,  0,  4,  0,  0],\n",
            "        [15,  0,  4,  5,  0,  0,  4,  0,  0],\n",
            "        [ 8,  0,  1,  5,  0,  0,  3,  0,  0],\n",
            "        [ 8,  0,  2,  5,  1,  0,  4,  0,  0],\n",
            "        [ 8,  0,  2,  5,  1,  0,  4,  0,  0]])\n",
            "torch.Size([11, 9])\n",
            "Get edge index matrix:\n",
            "tensor([[ 0,  1,  1,  1,  1,  2,  3,  3,  3,  3,  4,  5,  6,  7,  7,  7,  7,  8,\n",
            "          9, 10],\n",
            "        [ 1,  0,  2,  3,  7,  1,  1,  4,  5,  6,  3,  3,  3,  1,  8,  9, 10,  7,\n",
            "          7,  7]])\n",
            "torch.Size([2, 20])\n",
            "Get edge attribute matrix:\n",
            "tensor([[1, 0, 0],\n",
            "        [1, 0, 0],\n",
            "        [1, 0, 0],\n",
            "        [1, 0, 0],\n",
            "        [1, 0, 0],\n",
            "        [1, 0, 0],\n",
            "        [1, 0, 0],\n",
            "        [2, 0, 0],\n",
            "        [1, 0, 0],\n",
            "        [1, 0, 0],\n",
            "        [2, 0, 0],\n",
            "        [1, 0, 0],\n",
            "        [1, 0, 0],\n",
            "        [1, 0, 0],\n",
            "        [2, 0, 0],\n",
            "        [1, 0, 0],\n",
            "        [1, 0, 0],\n",
            "        [2, 0, 0],\n",
            "        [1, 0, 0],\n",
            "        [1, 0, 0]])\n",
            "torch.Size([20, 3])\n",
            "Get molecular property labels:\n",
            "tensor([[0., 0., 0., 0., 0., 0., 0., 0., 0., 0., 0., 0.]])\n",
            "torch.Size([1, 12])\n"
          ]
        }
      ],
      "source": [
        "# one graph example\n",
        "g = train_dataset[0]\n",
        "print(g)\n",
        "\n",
        "print(\"Get node feature matrix:\")\n",
        "print(g.x)\n",
        "print(g.x.shape) # (num_of_nodes, num_of_node_features)\n",
        "\n",
        "print(\"Get edge index matrix:\")\n",
        "print(g.edge_index)\n",
        "print(g.edge_index.shape) # (2, num_of_edges)\n",
        "\n",
        "print(\"Get edge attribute matrix:\")\n",
        "print(g.edge_attr)\n",
        "print(g.edge_attr.shape) # (num_of_edges, num_of_edge_features)\n",
        "\n",
        "print(\"Get molecular property labels:\")\n",
        "print(g.y)\n",
        "print(g.y.shape) # (1, 12) - these are the 12 tasks"
      ]
    },
    {
      "cell_type": "markdown",
      "metadata": {
        "id": "cilgcBXdCNS3"
      },
      "source": [
        "As we can observe, we have 11 nodes (rows) and each node has 9 features (columns). However, the features provided by Moleculenet are discrete and of type long, so we need to convert them first to continuous embeddings in order to feed them in any ML model.\n",
        "\n",
        "For example, the first column indicates the atomic number of a node, where 1 represents Hydrogen, 6 represents Carbon, 8 for Oxygen, according to periodic table of elements."
      ]
    },
    {
      "cell_type": "code",
      "execution_count": 226,
      "metadata": {
        "id": "AZLIUrqobxY3"
      },
      "outputs": [
        {
          "name": "stdout",
          "output_type": "stream",
          "text": [
            "DataBatch(x=[588, 9], edge_index=[2, 1206], edge_attr=[1206, 3], y=[32, 12], smiles=[32], batch=[588], ptr=[33])\n"
          ]
        },
        {
          "name": "stderr",
          "output_type": "stream",
          "text": [
            "/Users/nguyenv/Desktop/project-3/.venv/lib/python3.11/site-packages/torch_geometric/deprecation.py:22: UserWarning: 'data.DataLoader' is deprecated, use 'loader.DataLoader' instead\n",
            "  warnings.warn(out)\n"
          ]
        }
      ],
      "source": [
        "# Example of preparing data loaders.\n",
        "# You can use any batch size and see what happens in model performance.\n",
        "\n",
        "from torch_geometric.data import DataLoader\n",
        "\n",
        "batch_size=32\n",
        "train_loader = DataLoader(train_dataset, batch_size=batch_size, shuffle=True)\n",
        "val_loader = DataLoader(valid_dataset, batch_size=batch_size, shuffle=False)\n",
        "test_loader = DataLoader(test_dataset, batch_size=batch_size, shuffle=False)\n",
        "\n",
        "# Example of creating one mini-batch\n",
        "# See more info about mini-batch in pytorch geometric in https://pytorch-geometric.readthedocs.io/en/latest/get_started/introduction.html\n",
        "batch = next(iter(train_loader))\n",
        "print(batch)"
      ]
    },
    {
      "cell_type": "markdown",
      "metadata": {
        "id": "Mc2_Mytlhn5P"
      },
      "source": [
        "# Visualization of molecules"
      ]
    },
    {
      "cell_type": "code",
      "execution_count": 227,
      "metadata": {
        "colab": {
          "base_uri": "https://localhost:8080/",
          "height": 167
        },
        "id": "BNoZJPN0ic5S",
        "outputId": "f266503a-c8d8-466f-f429-416a29935400"
      },
      "outputs": [
        {
          "data": {
            "image/png": "[encoded data removed]",
            "text/plain": [
              "<rdkit.Chem.rdchem.Mol at 0x1798b73e0>"
            ]
          },
          "execution_count": 227,
          "metadata": {},
          "output_type": "execute_result"
        }
      ],
      "source": [
        "# visualize one 2D molecule.\n",
        "from rdkit import Chem\n",
        "Chem.MolFromSmiles(g.smiles)"
      ]
    },
    {
      "cell_type": "markdown",
      "metadata": {},
      "source": [
        "### Calculate Weights"
      ]
    },
    {
      "cell_type": "code",
      "execution_count": 228,
      "metadata": {},
      "outputs": [
        {
          "name": "stdout",
          "output_type": "stream",
          "text": [
            "[0. 0. 0. 0. 0. 0. 0. 0. 0. 0. 0. 0.]\n",
            "[248. 190. 590. 210. 648. 297. 134. 717. 195. 282. 711. 278.]\n",
            "Class weights: tensor([0.0040, 0.0053, 0.0017, 0.0048, 0.0015, 0.0034, 0.0075, 0.0014, 0.0051,\n",
            "        0.0035, 0.0014, 0.0036])\n"
          ]
        },
        {
          "data": {
            "image/png": "[encoded data removed]",
            "text/plain": [
              "<Figure size 640x480 with 1 Axes>"
            ]
          },
          "metadata": {},
          "output_type": "display_data"
        }
      ],
      "source": [
        "import numpy as np\n",
        "# Assuming there are 12 properties, initialize an array to store counts for each property\n",
        "property_counts = np.zeros(12)\n",
        "print(property_counts)\n",
        "# Iterate over the dataset to count each property\n",
        "for graph in train_dataset:\n",
        "    labels = graph.y\n",
        "    for i in range(12):\n",
        "        if not torch.isnan(labels[0, i]):\n",
        "            # print(labels[0, i])\n",
        "            property_counts[i] += labels[0, i]\n",
        "        \n",
        "print(property_counts)\n",
        "\n",
        "# Calculate class weights\n",
        "# The weight for each class is inversely proportional to its frequency\n",
        "class_weights = [1.0 / count if count > 0 else max(class_weights) for count in property_counts]\n",
        "class_weights = torch.tensor(class_weights, dtype=torch.float)\n",
        "\n",
        "# Handle the case where a class is not present in the dataset (to avoid division by zero)\n",
        "class_weights[class_weights == float('inf')] = 0\n",
        "\n",
        "print(\"Class weights:\", class_weights)\n",
        "\n",
        "import matplotlib.pyplot as plt\n",
        "import numpy as np\n",
        "# Initialize counts for each property (assuming 12 properties)\n",
        "property_counts = np.zeros(12)\n",
        "\n",
        "# Iterate over the dataset and count each property\n",
        "for graph in train_dataset:\n",
        "    labels = graph.y\n",
        "    for i in range(12):\n",
        "        if not torch.isnan(labels[0, i]):\n",
        "            property_counts[i] += labels[0, i].item()\n",
        "\n",
        "# Plotting the distribution\n",
        "plt.bar(range(12), property_counts)\n",
        "plt.xlabel('Property Index')\n",
        "plt.ylabel('Frequency')\n",
        "plt.title('Distribution of Each Property in the Dataset')\n",
        "plt.xticks(range(12))\n",
        "plt.show()"
      ]
    },
    {
      "cell_type": "markdown",
      "metadata": {},
      "source": [
        "### Calculate Weights after adding Minority"
      ]
    },
    {
      "cell_type": "code",
      "execution_count": 229,
      "metadata": {},
      "outputs": [
        {
          "name": "stdout",
          "output_type": "stream",
          "text": [
            "new [599. 741. 798. 636. 903. 615. 508. 931. 621. 465. 869. 579.]\n",
            "old [248. 190. 590. 210. 648. 297. 134. 717. 195. 282. 711. 278.]\n",
            "Class weights: tensor([0.0040, 0.0053, 0.0017, 0.0048, 0.0015, 0.0034, 0.0075, 0.0014, 0.0051,\n",
            "        0.0035, 0.0014, 0.0036])\n"
          ]
        },
        {
          "data": {
            "image/png": "[encoded data removed]",
            "text/plain": [
              "<Figure size 640x480 with 1 Axes>"
            ]
          },
          "metadata": {},
          "output_type": "display_data"
        }
      ],
      "source": [
        "# Adding miniority class samples\n",
        "new_train_dataset = torch.load(\"train_data.pt\")\n",
        "\n",
        "graph_to_add = []\n",
        "new_property_counts = np.zeros(12)\n",
        "count = 0\n",
        "\n",
        "for graph in train_dataset:\n",
        "    labels = graph.y\n",
        "    if labels[0, 6] == 1 and labels[0, 7] != 1:\n",
        "        graph_to_add.extend([graph])\n",
        "    if labels[0, 6] == 1 and labels[0, 7] != 1 and labels[0, 10] != 1:\n",
        "        graph_to_add.extend([graph]*2)\n",
        "    if labels[0, 3] == 1 and labels[0, 7] != 1:\n",
        "        graph_to_add.extend([graph]*3)\n",
        "    if labels[0, 1] == 1 and labels[0, 10] != 1:\n",
        "        graph_to_add.extend([graph]*3)\n",
        "    if labels[0, 8] == 1 and labels[0, 10] != 1 and labels[0, 4] != 1:\n",
        "        graph_to_add.extend([graph]*4)\n",
        "    \n",
        "new_train_dataset.extend(graph_to_add)\n",
        "# calculate the new class weights\n",
        "for graph in new_train_dataset:\n",
        "    labels = graph.y\n",
        "    for i in range(12):\n",
        "        if not torch.isnan(labels[0, i]):\n",
        "            new_property_counts[i] += labels[0, i]\n",
        "            \n",
        "print(\"new\", new_property_counts)\n",
        "print(\"old\", property_counts)\n",
        "\n",
        "# Calculate class weights\n",
        "# The weight for each class is inversely proportional to its frequency\n",
        "new_class_weights = [1.0 / count if count > 0 else 0 for count in property_counts]\n",
        "new_class_weights = torch.tensor(new_class_weights, dtype=torch.float)\n",
        "\n",
        "# Handle the case where a class is not present in the dataset (to avoid division by zero)\n",
        "new_class_weights[new_class_weights == float('inf')] = 0\n",
        "print(\"Class weights:\", new_class_weights)\n",
        "\n",
        "# Initialize counts for each property (assuming 12 properties)\n",
        "property_counts = np.zeros(12)\n",
        "\n",
        "# Iterate over the dataset and count each property\n",
        "for graph in new_train_dataset:\n",
        "    labels = graph.y\n",
        "    for i in range(12):\n",
        "        if not torch.isnan(labels[0, i]):\n",
        "            property_counts[i] += labels[0, i].item()\n",
        "\n",
        "# Plotting the distribution\n",
        "plt.bar(range(12), property_counts)\n",
        "plt.xlabel('Property Index')\n",
        "plt.ylabel('Frequency')\n",
        "plt.title('Distribution of Each Property in the Dataset')\n",
        "plt.xticks(range(12))\n",
        "plt.show()"
      ]
    },
    {
      "cell_type": "code",
      "execution_count": 230,
      "metadata": {},
      "outputs": [
        {
          "name": "stderr",
          "output_type": "stream",
          "text": [
            "[21:22:20] WARNING: not removing hydrogen atom without neighbors\n",
            "[21:22:33] WARNING: not removing hydrogen atom without neighbors\n"
          ]
        },
        {
          "name": "stdout",
          "output_type": "stream",
          "text": [
            "torch.Size([32, 12])\n"
          ]
        }
      ],
      "source": [
        "# create a model\n",
        "model = GNN(hidden_channels=64, num_node_features=9, num_classes=12)\n",
        "\n",
        "from rdkit.Chem import AllChem\n",
        "\n",
        "def smiles_to_fingerprints(smiles_list, radius=3, n_bits=8192):\n",
        "    fingerprints = []\n",
        "    for smiles in smiles_list:\n",
        "        mol = Chem.MolFromSmiles(smiles)\n",
        "        fp = AllChem.GetMorganFingerprintAsBitVect(mol, radius, nBits=n_bits)\n",
        "        fingerprints.append(np.array(fp))\n",
        "    return np.array(fingerprints)\n",
        "\n",
        "# Apply to the original dataset\n",
        "original_fingerprints = smiles_to_fingerprints([data.smiles for data in train_dataset])\n",
        "for data, fp in zip(train_dataset, original_fingerprints):\n",
        "    data.fp = torch.tensor(fp, dtype=torch.float)\n",
        "\n",
        "# Apply to the augmented dataset\n",
        "new_fingerprints = smiles_to_fingerprints([data.smiles for data in new_train_dataset])\n",
        "for data, fp in zip(new_train_dataset, new_fingerprints):\n",
        "    data.fp = torch.tensor(fp, dtype=torch.float)\n",
        "\n",
        "# prediction\n",
        "out = model(batch)\n",
        "print(out.shape) #(num_of_graph, num_of_task)\n",
        "\n",
        "class MyDataLoader(DataLoader):\n",
        "    def collate_fn(self, batch):\n",
        "        batch = super(MyDataLoader, self).collate(batch)\n",
        "        batch.fp = torch.stack([data.fp for data in batch.to_data_list()])\n",
        "        return batch"
      ]
    },
    {
      "cell_type": "markdown",
      "metadata": {
        "id": "M3O_MZj_TjJ7"
      },
      "source": [
        "# Build model"
      ]
    },
    {
      "cell_type": "code",
      "execution_count": 231,
      "metadata": {
        "id": "0Agk424bTnmZ"
      },
      "outputs": [],
      "source": [
        "# Atom encoder\n",
        "class AtomEncoder(torch.nn.Module):\n",
        "    def __init__(self, hidden_channels):\n",
        "        super(AtomEncoder, self).__init__()\n",
        "\n",
        "        self.embeddings = torch.nn.ModuleList()\n",
        "\n",
        "        for i in range(32):\n",
        "            self.embeddings.append(torch.nn.Embedding(100, hidden_channels))\n",
        "\n",
        "    def reset_parameters(self):\n",
        "        for embedding in self.embeddings:\n",
        "            embedding.reset_parameters()\n",
        "\n",
        "    def forward(self, x):\n",
        "        if x.dim() == 1:\n",
        "            x = x.unsqueeze(1)\n",
        "\n",
        "        out = 0\n",
        "        for i in range(x.size(1)):\n",
        "            out += self.embeddings[i](x[:, i])\n",
        "        return out\n",
        "\n",
        "from torch_geometric.nn import GATConv, GraphConv, global_mean_pool as gap, BatchNorm, TransformerConv\n",
        "import torch.nn.functional as F\n",
        "from torch.nn import Linear\n",
        "import torch_geometric\n",
        "\n",
        "class GNN(torch.nn.Module):\n",
        "    def __init__(self, hidden_channels, num_node_features, num_classes, fingerprint_dim):\n",
        "        super(GNN, self).__init__()\n",
        "        self.emb = AtomEncoder(hidden_channels=64)\n",
        "\n",
        "        # Combining GCN and GAT layers\n",
        "        self.gcn1 = GraphConv(hidden_channels, hidden_channels)\n",
        "        self.gat1 = GATConv(hidden_channels, hidden_channels)\n",
        "        self.bn1 = BatchNorm(hidden_channels)\n",
        "\n",
        "        self.gcn2 = GraphConv(hidden_channels, hidden_channels)\n",
        "        self.gat2 = GATConv(hidden_channels, hidden_channels)\n",
        "        self.bn2 = BatchNorm(hidden_channels)\n",
        "\n",
        "        self.fp_lin = Linear(fingerprint_dim, hidden_channels)\n",
        "\n",
        "        # self.gcn3 = GCNConv(hidden_channels, hidden_channels)\n",
        "        # self.gat3 = GATConv(hidden_channels, hidden_channels)\n",
        "        # self.bn3 = BatchNorm(hidden_channels)\n",
        "\n",
        "        self.lin = Linear(hidden_channels, num_classes)\n",
        "\n",
        "    def forward(self, batch):\n",
        "        x, edge_index, batch_size, fp = batch.x, batch.edge_index, batch.batch, batch.fp\n",
        "        x = self.emb(x)\n",
        "\n",
        "        # GCN followed by GAT for each layer\n",
        "        x = F.relu(self.gcn1(x, edge_index))\n",
        "        x = self.bn1(self.gat1(x, edge_index))\n",
        "\n",
        "        x = F.relu(self.gcn2(x, edge_index))\n",
        "        x = self.bn2(self.gat2(x, edge_index))\n",
        "\n",
        "        # x = F.relu(self.gcn3(x, edge_index))\n",
        "        # x = self.bn3(self.gat3(x, edge_index))\n",
        "\n",
        "        x = gap(x, batch_size)\n",
        "        x = F.dropout(x, p=0.6, training=self.training)\n",
        "        x = self.lin(x)\n",
        "        return x"
      ]
    },
    {
      "cell_type": "markdown",
      "metadata": {
        "id": "QIAfufrpuKAm"
      },
      "source": [
        "# Start training"
      ]
    },
    {
      "cell_type": "code",
      "execution_count": 232,
      "metadata": {
        "id": "vCQE_TIoUw4x"
      },
      "outputs": [],
      "source": [
        "# loss function and optimizer\n",
        "import torch.nn as nn\n",
        "import torch.optim as optim\n",
        "from torch.optim.lr_scheduler import StepLR\n",
        "\n",
        "optimizer = optim.Adam(model.parameters(), lr=0.001, weight_decay=1e-5)\n",
        "scheduler = StepLR(optimizer, step_size=30, gamma=0.1)\n",
        "\n",
        "criterion = nn.BCEWithLogitsLoss(reduction = \"none\")"
      ]
    },
    {
      "cell_type": "code",
      "execution_count": 233,
      "metadata": {
        "id": "6SL3fUw4VD38"
      },
      "outputs": [],
      "source": [
        "# train and eval function\n",
        "from sklearn.metrics import roc_auc_score\n",
        "def train(model, device, loader, optimizer):\n",
        "    model.train()\n",
        "\n",
        "    for step, batch in enumerate(loader): # trains by batch\n",
        "        batch = batch.to(device)\n",
        "        pred = model(batch)\n",
        "        y = batch.y.view(pred.shape).to(torch.float64)\n",
        "\n",
        "        optimizer.zero_grad()\n",
        "        ## ignore nan targets (unlabeled) when computing training loss.\n",
        "        is_labeled = batch.y == batch.y\n",
        "        loss = criterion(pred.to(torch.float32)[is_labeled], batch.y.to(torch.float32)[is_labeled]).mean()\n",
        "        loss.backward()\n",
        "        optimizer.step()\n",
        "\n",
        "def eval(model, device, loader):\n",
        "    model.eval()\n",
        "    y_true = []\n",
        "    y_pred = []\n",
        "    # For every batch in test loader\n",
        "    for batch in loader:\n",
        "        batch = batch.to(device)\n",
        "        if batch.x.shape[0] == 1:\n",
        "            pass\n",
        "        else:\n",
        "            with torch.no_grad():\n",
        "                pred = model(batch)\n",
        "\n",
        "            y_true.append(batch.y.view(pred.shape))\n",
        "            y_pred.append(pred)\n",
        "\n",
        "    y_true = torch.cat(y_true, dim=0).numpy()\n",
        "    y_pred = torch.cat(y_pred, dim=0).numpy()\n",
        "\n",
        "    rocauc_list = []\n",
        "\n",
        "    for i in range(y_true.shape[1]): # for 12 tasks...\n",
        "        if np.sum(y_true[:, i] == 1) > 0 and np.sum(y_true[:, i] == 0) > 0:\n",
        "            is_labeled = y_true[:, i] == y_true[:, i] # filter out NaN values\n",
        "            rocauc_list.append(roc_auc_score(y_true[is_labeled, i], y_pred[is_labeled, i]))\n",
        "\n",
        "    rocauc = sum(rocauc_list) / len(rocauc_list)\n",
        "\n",
        "    return {'rocauc': rocauc}"
      ]
    },
    {
      "cell_type": "code",
      "execution_count": 234,
      "metadata": {
        "colab": {
          "base_uri": "https://localhost:8080/"
        },
        "id": "yYM7x48bZugM",
        "outputId": "c953e0d1-20fd-4f64-b7b6-8ac3425cc7ea"
      },
      "outputs": [
        {
          "name": "stdout",
          "output_type": "stream",
          "text": [
            "FOLD 0\n",
            "--------------------------------\n",
            "Start training...\n",
            "====epoch 1\n",
            "{'Train': {'rocauc': 0.7350503778836458}, 'Validation': {'rocauc': 0.7185331777396672}}\n",
            "====epoch 2\n",
            "{'Train': {'rocauc': 0.7690642962674246}, 'Validation': {'rocauc': 0.7444024244196675}}\n",
            "====epoch 3\n",
            "Best Epoch: 3\n",
            "{'Train': {'rocauc': 0.8124829961259907}, 'Validation': {'rocauc': 0.7843858724716797}}\n",
            "====epoch 4\n",
            "{'Train': {'rocauc': 0.8106753296569199}, 'Validation': {'rocauc': 0.7817052442063454}}\n",
            "====epoch 5\n",
            "Best Epoch: 5\n",
            "{'Train': {'rocauc': 0.8403721295494182}, 'Validation': {'rocauc': 0.8144406271157604}}\n",
            "====epoch 6\n",
            "{'Train': {'rocauc': 0.8388385656933469}, 'Validation': {'rocauc': 0.8123298746803168}}\n",
            "====epoch 7\n",
            "{'Train': {'rocauc': 0.8410213734563246}, 'Validation': {'rocauc': 0.8103774610786245}}\n",
            "====epoch 8\n",
            "{'Train': {'rocauc': 0.8271215407187097}, 'Validation': {'rocauc': 0.8004404578852791}}\n",
            "====epoch 9\n",
            "Best Epoch: 9\n",
            "{'Train': {'rocauc': 0.8589199760251782}, 'Validation': {'rocauc': 0.833318957231825}}\n",
            "====epoch 10\n",
            "{'Train': {'rocauc': 0.8545240919854854}, 'Validation': {'rocauc': 0.8306381470902565}}\n",
            "====epoch 11\n",
            "{'Train': {'rocauc': 0.8586772881840338}, 'Validation': {'rocauc': 0.8303538280311304}}\n",
            "====epoch 12\n",
            "{'Train': {'rocauc': 0.8491411620180277}, 'Validation': {'rocauc': 0.8218624841852181}}\n",
            "====epoch 13\n",
            "{'Train': {'rocauc': 0.8671064443020096}, 'Validation': {'rocauc': 0.8331800713876686}}\n",
            "====epoch 14\n",
            "Best Epoch: 14\n",
            "{'Train': {'rocauc': 0.8733790742032378}, 'Validation': {'rocauc': 0.8392857657123765}}\n",
            "====epoch 15\n",
            "Best Epoch: 15\n",
            "{'Train': {'rocauc': 0.8709087221295312}, 'Validation': {'rocauc': 0.8455139719340687}}\n",
            "====epoch 16\n",
            "{'Train': {'rocauc': 0.8782498008309282}, 'Validation': {'rocauc': 0.8447920701903785}}\n",
            "====epoch 17\n",
            "Best Epoch: 17\n",
            "{'Train': {'rocauc': 0.883639243946145}, 'Validation': {'rocauc': 0.8523127710791233}}\n",
            "====epoch 18\n",
            "{'Train': {'rocauc': 0.8782529520631167}, 'Validation': {'rocauc': 0.8493214600422249}}\n",
            "====epoch 19\n",
            "Best Epoch: 19\n",
            "{'Train': {'rocauc': 0.8866677481236213}, 'Validation': {'rocauc': 0.860005777107995}}\n",
            "====epoch 20\n",
            "Best Epoch: 20\n",
            "{'Train': {'rocauc': 0.8909852825743946}, 'Validation': {'rocauc': 0.8612927363281703}}\n",
            "====epoch 21\n",
            "Best Epoch: 21\n",
            "{'Train': {'rocauc': 0.8911104529550203}, 'Validation': {'rocauc': 0.8629051896347818}}\n",
            "====epoch 22\n",
            "{'Train': {'rocauc': 0.8852135739879231}, 'Validation': {'rocauc': 0.8518528839859627}}\n",
            "====epoch 23\n",
            "Best Epoch: 23\n",
            "{'Train': {'rocauc': 0.8947814811289344}, 'Validation': {'rocauc': 0.8646582877982595}}\n",
            "====epoch 24\n",
            "{'Train': {'rocauc': 0.8949809150281837}, 'Validation': {'rocauc': 0.8640035712122613}}\n",
            "====epoch 25\n",
            "Best Epoch: 25\n",
            "{'Train': {'rocauc': 0.8969401767178576}, 'Validation': {'rocauc': 0.8654934460108712}}\n",
            "====epoch 26\n",
            "Best Epoch: 26\n",
            "{'Train': {'rocauc': 0.9021864510639147}, 'Validation': {'rocauc': 0.8714273251371729}}\n",
            "====epoch 27\n",
            "Best Epoch: 27\n",
            "{'Train': {'rocauc': 0.9054932585175633}, 'Validation': {'rocauc': 0.8767130656653035}}\n",
            "====epoch 28\n",
            "{'Train': {'rocauc': 0.9054161311830765}, 'Validation': {'rocauc': 0.8736057406253002}}\n",
            "====epoch 29\n",
            "{'Train': {'rocauc': 0.905123388210411}, 'Validation': {'rocauc': 0.873349617495642}}\n",
            "====epoch 30\n",
            "{'Train': {'rocauc': 0.9080297808971677}, 'Validation': {'rocauc': 0.8746370329238377}}\n",
            "====epoch 31\n",
            "Best Epoch: 31\n",
            "{'Train': {'rocauc': 0.916658461273346}, 'Validation': {'rocauc': 0.8851163048701555}}\n",
            "====epoch 32\n",
            "Best Epoch: 32\n",
            "{'Train': {'rocauc': 0.9181887300171893}, 'Validation': {'rocauc': 0.8863597661421821}}\n",
            "====epoch 33\n",
            "Best Epoch: 33\n",
            "{'Train': {'rocauc': 0.9195764608708323}, 'Validation': {'rocauc': 0.886964545405066}}\n",
            "====epoch 34\n",
            "Best Epoch: 34\n",
            "{'Train': {'rocauc': 0.9199227086475972}, 'Validation': {'rocauc': 0.8883429609428352}}\n",
            "====epoch 35\n",
            "Best Epoch: 35\n",
            "{'Train': {'rocauc': 0.9201488837772457}, 'Validation': {'rocauc': 0.8888407058119282}}\n",
            "====epoch 36\n",
            "{'Train': {'rocauc': 0.9207267752086974}, 'Validation': {'rocauc': 0.8884333013093623}}\n",
            "====epoch 37\n",
            "Best Epoch: 37\n",
            "{'Train': {'rocauc': 0.9208681062655631}, 'Validation': {'rocauc': 0.8890665046086732}}\n",
            "====epoch 38\n",
            "Best Epoch: 38\n",
            "{'Train': {'rocauc': 0.9215199263829036}, 'Validation': {'rocauc': 0.8895054089242582}}\n",
            "====epoch 39\n",
            "Best Epoch: 39\n",
            "{'Train': {'rocauc': 0.9220720619182727}, 'Validation': {'rocauc': 0.8900697052459637}}\n",
            "====epoch 40\n",
            "Best Epoch: 40\n",
            "{'Train': {'rocauc': 0.9226555754751731}, 'Validation': {'rocauc': 0.8908036614121105}}\n",
            "====epoch 41\n",
            "Best Epoch: 41\n",
            "{'Train': {'rocauc': 0.9230464488000881}, 'Validation': {'rocauc': 0.8912125994436136}}\n",
            "====epoch 42\n",
            "Best Epoch: 42\n",
            "{'Train': {'rocauc': 0.9226429569657184}, 'Validation': {'rocauc': 0.891473910269232}}\n",
            "====epoch 43\n",
            "{'Train': {'rocauc': 0.9234210719366452}, 'Validation': {'rocauc': 0.8911441734183737}}\n",
            "====epoch 44\n",
            "{'Train': {'rocauc': 0.9237629962972745}, 'Validation': {'rocauc': 0.8909156333508994}}\n",
            "====epoch 45\n",
            "Best Epoch: 45\n",
            "{'Train': {'rocauc': 0.924413237155278}, 'Validation': {'rocauc': 0.8925473222493713}}\n",
            "====epoch 46\n",
            "{'Train': {'rocauc': 0.9237329385339672}, 'Validation': {'rocauc': 0.8921067348577788}}\n",
            "====epoch 47\n",
            "Best Epoch: 47\n",
            "{'Train': {'rocauc': 0.9252295329040402}, 'Validation': {'rocauc': 0.893643384726848}}\n",
            "====epoch 48\n",
            "{'Train': {'rocauc': 0.9255198343727633}, 'Validation': {'rocauc': 0.8934777292522355}}\n",
            "====epoch 49\n",
            "Best Epoch: 49\n",
            "{'Train': {'rocauc': 0.9256524923539308}, 'Validation': {'rocauc': 0.8938355069948328}}\n",
            "====epoch 50\n",
            "Best Epoch: 50\n",
            "{'Train': {'rocauc': 0.9261093812521056}, 'Validation': {'rocauc': 0.8946278546464811}}\n",
            "====epoch 51\n",
            "Best Epoch: 51\n",
            "{'Train': {'rocauc': 0.926476474036377}, 'Validation': {'rocauc': 0.8956384547594848}}\n",
            "====epoch 52\n",
            "{'Train': {'rocauc': 0.9262576995722744}, 'Validation': {'rocauc': 0.8954726030299279}}\n",
            "====epoch 53\n",
            "{'Train': {'rocauc': 0.9262248061529924}, 'Validation': {'rocauc': 0.8944567679690613}}\n",
            "====epoch 54\n",
            "{'Train': {'rocauc': 0.9268747526578561}, 'Validation': {'rocauc': 0.894496347989855}}\n",
            "====epoch 55\n",
            "{'Train': {'rocauc': 0.927780386118406}, 'Validation': {'rocauc': 0.8954441239580672}}\n",
            "====epoch 56\n",
            "Best Epoch: 56\n",
            "{'Train': {'rocauc': 0.9280385556605726}, 'Validation': {'rocauc': 0.8967242633052077}}\n",
            "====epoch 57\n",
            "{'Train': {'rocauc': 0.9280658315056797}, 'Validation': {'rocauc': 0.8965616654390075}}\n",
            "====epoch 58\n",
            "{'Train': {'rocauc': 0.9285987308016561}, 'Validation': {'rocauc': 0.8959310470182937}}\n",
            "====epoch 59\n",
            "Best Epoch: 59\n",
            "{'Train': {'rocauc': 0.9289268581838409}, 'Validation': {'rocauc': 0.8971903138348036}}\n",
            "====epoch 60\n",
            "{'Train': {'rocauc': 0.9290576372882912}, 'Validation': {'rocauc': 0.8968008027806826}}\n",
            "====epoch 61\n",
            "Best Epoch: 61\n",
            "{'Train': {'rocauc': 0.929487275950749}, 'Validation': {'rocauc': 0.8973359845591053}}\n",
            "====epoch 62\n",
            "Best Epoch: 62\n",
            "{'Train': {'rocauc': 0.9296572868779448}, 'Validation': {'rocauc': 0.8980565045829353}}\n",
            "====epoch 63\n",
            "{'Train': {'rocauc': 0.9292683417610541}, 'Validation': {'rocauc': 0.8979804256019553}}\n",
            "====epoch 64\n",
            "Best Epoch: 64\n",
            "{'Train': {'rocauc': 0.929646786093269}, 'Validation': {'rocauc': 0.8980898470021114}}\n",
            "====epoch 65\n",
            "Best Epoch: 65\n",
            "{'Train': {'rocauc': 0.9297588531104797}, 'Validation': {'rocauc': 0.8983946759372824}}\n",
            "====epoch 66\n",
            "{'Train': {'rocauc': 0.9298284025103841}, 'Validation': {'rocauc': 0.8983694654553859}}\n",
            "====epoch 67\n",
            "Best Epoch: 67\n",
            "{'Train': {'rocauc': 0.9300137761801944}, 'Validation': {'rocauc': 0.898434411188101}}\n",
            "====epoch 68\n",
            "{'Train': {'rocauc': 0.9300313809903331}, 'Validation': {'rocauc': 0.8981021818688056}}\n",
            "====epoch 69\n",
            "Best Epoch: 69\n",
            "{'Train': {'rocauc': 0.9300052936516919}, 'Validation': {'rocauc': 0.8984366142787338}}\n",
            "====epoch 70\n",
            "{'Train': {'rocauc': 0.9298559067341668}, 'Validation': {'rocauc': 0.8981878433894345}}\n",
            "====epoch 71\n",
            "Best Epoch: 71\n",
            "{'Train': {'rocauc': 0.9301348419414458}, 'Validation': {'rocauc': 0.8984586400288525}}\n",
            "====epoch 72\n",
            "Best Epoch: 72\n",
            "{'Train': {'rocauc': 0.9299232491813473}, 'Validation': {'rocauc': 0.8985287158339851}}\n",
            "====epoch 73\n",
            "Best Epoch: 73\n",
            "{'Train': {'rocauc': 0.930022671895229}, 'Validation': {'rocauc': 0.8987701662649165}}\n",
            "====epoch 74\n",
            "Best Epoch: 74\n",
            "{'Train': {'rocauc': 0.9300922878250802}, 'Validation': {'rocauc': 0.8987735434831877}}\n",
            "====epoch 75\n",
            "{'Train': {'rocauc': 0.9299918586926826}, 'Validation': {'rocauc': 0.8984750591253422}}\n",
            "====epoch 76\n",
            "{'Train': {'rocauc': 0.9301326064466914}, 'Validation': {'rocauc': 0.8987231147417435}}\n",
            "====epoch 77\n",
            "Best Epoch: 77\n",
            "{'Train': {'rocauc': 0.9303349217621526}, 'Validation': {'rocauc': 0.8990461250878266}}\n",
            "====epoch 78\n",
            "{'Train': {'rocauc': 0.9303264079041419}, 'Validation': {'rocauc': 0.8986730031175858}}\n",
            "====epoch 79\n",
            "{'Train': {'rocauc': 0.9301400582622006}, 'Validation': {'rocauc': 0.8984823818478617}}\n",
            "====epoch 80\n",
            "{'Train': {'rocauc': 0.9302396009118433}, 'Validation': {'rocauc': 0.8981870854572377}}\n",
            "====epoch 81\n",
            "{'Train': {'rocauc': 0.9303646430028105}, 'Validation': {'rocauc': 0.8988755511747778}}\n",
            "====epoch 82\n",
            "{'Train': {'rocauc': 0.930497310541404}, 'Validation': {'rocauc': 0.8988987817498617}}\n",
            "====epoch 83\n",
            "Best Epoch: 83\n",
            "{'Train': {'rocauc': 0.930615742867631}, 'Validation': {'rocauc': 0.899087045075643}}\n",
            "====epoch 84\n",
            "{'Train': {'rocauc': 0.9302425678776994}, 'Validation': {'rocauc': 0.8987706104564225}}\n",
            "====epoch 85\n",
            "{'Train': {'rocauc': 0.930372063949902}, 'Validation': {'rocauc': 0.8988339577088901}}\n",
            "====epoch 86\n",
            "{'Train': {'rocauc': 0.930488254081216}, 'Validation': {'rocauc': 0.8986984031623907}}\n",
            "====epoch 87\n",
            "{'Train': {'rocauc': 0.9304603929591394}, 'Validation': {'rocauc': 0.8986808787673121}}\n",
            "====epoch 88\n",
            "{'Train': {'rocauc': 0.9306230885990373}, 'Validation': {'rocauc': 0.8989823433255862}}\n",
            "====epoch 89\n",
            "Best Epoch: 89\n",
            "{'Train': {'rocauc': 0.9306440029470918}, 'Validation': {'rocauc': 0.8993249706023555}}\n",
            "====epoch 90\n",
            "{'Train': {'rocauc': 0.930760265952876}, 'Validation': {'rocauc': 0.8991832675062869}}\n",
            "====epoch 91\n",
            "{'Train': {'rocauc': 0.9305103583845455}, 'Validation': {'rocauc': 0.8991187603125281}}\n",
            "====epoch 92\n",
            "{'Train': {'rocauc': 0.9305455716039129}, 'Validation': {'rocauc': 0.8989230198458763}}\n",
            "====epoch 93\n",
            "{'Train': {'rocauc': 0.9306264045634891}, 'Validation': {'rocauc': 0.8990766887970983}}\n",
            "====epoch 94\n",
            "{'Train': {'rocauc': 0.9306701685258435}, 'Validation': {'rocauc': 0.8992316083369846}}\n",
            "====epoch 95\n",
            "{'Train': {'rocauc': 0.9305667303663818}, 'Validation': {'rocauc': 0.8992968689061137}}\n",
            "====epoch 96\n",
            "Best Epoch: 96\n",
            "{'Train': {'rocauc': 0.9306582416167876}, 'Validation': {'rocauc': 0.8994683408138681}}\n",
            "====epoch 97\n",
            "{'Train': {'rocauc': 0.93067043614028}, 'Validation': {'rocauc': 0.8991683121452998}}\n",
            "====epoch 98\n",
            "{'Train': {'rocauc': 0.9306021218457903}, 'Validation': {'rocauc': 0.8990203947305759}}\n",
            "====epoch 99\n",
            "{'Train': {'rocauc': 0.9307605553137969}, 'Validation': {'rocauc': 0.8993828277601451}}\n",
            "====epoch 100\n",
            "{'Train': {'rocauc': 0.9307081226500368}, 'Validation': {'rocauc': 0.8993752055747612}}\n",
            "====epoch 101\n",
            "{'Train': {'rocauc': 0.9306218138349189}, 'Validation': {'rocauc': 0.8992557512613839}}\n",
            "====epoch 102\n",
            "{'Train': {'rocauc': 0.9306356165094605}, 'Validation': {'rocauc': 0.8990858233411395}}\n",
            "====epoch 103\n",
            "{'Train': {'rocauc': 0.9307849854743956}, 'Validation': {'rocauc': 0.8994149669700006}}\n",
            "====epoch 104\n",
            "{'Train': {'rocauc': 0.93077767531293}, 'Validation': {'rocauc': 0.8992218185643139}}\n",
            "====epoch 105\n",
            "{'Train': {'rocauc': 0.930641368049192}, 'Validation': {'rocauc': 0.8991025367911161}}\n",
            "====epoch 106\n",
            "{'Train': {'rocauc': 0.9308340399208408}, 'Validation': {'rocauc': 0.8992832268535412}}\n",
            "====epoch 107\n",
            "{'Train': {'rocauc': 0.9307574499689629}, 'Validation': {'rocauc': 0.8993912087742455}}\n",
            "====epoch 108\n",
            "{'Train': {'rocauc': 0.9306437907407913}, 'Validation': {'rocauc': 0.8993256279495446}}\n",
            "====epoch 109\n",
            "{'Train': {'rocauc': 0.9307228435835883}, 'Validation': {'rocauc': 0.8993206003256583}}\n",
            "====epoch 110\n",
            "{'Train': {'rocauc': 0.9306447584979392}, 'Validation': {'rocauc': 0.8993739037194858}}\n",
            "====epoch 111\n",
            "{'Train': {'rocauc': 0.9307066035307675}, 'Validation': {'rocauc': 0.8991740946858452}}\n",
            "====epoch 112\n",
            "{'Train': {'rocauc': 0.9306356031896303}, 'Validation': {'rocauc': 0.8993194497096527}}\n",
            "====epoch 113\n",
            "{'Train': {'rocauc': 0.930909459158341}, 'Validation': {'rocauc': 0.8993009091115307}}\n",
            "====epoch 114\n",
            "{'Train': {'rocauc': 0.930540001015982}, 'Validation': {'rocauc': 0.8989158128219089}}\n",
            "====epoch 115\n",
            "{'Train': {'rocauc': 0.9306825176859137}, 'Validation': {'rocauc': 0.8991780304226972}}\n",
            "====epoch 116\n",
            "{'Train': {'rocauc': 0.9306856464076301}, 'Validation': {'rocauc': 0.8993024179418114}}\n",
            "====epoch 117\n",
            "{'Train': {'rocauc': 0.9307073082343048}, 'Validation': {'rocauc': 0.8990051292984642}}\n",
            "====epoch 118\n",
            "{'Train': {'rocauc': 0.9305749277988457}, 'Validation': {'rocauc': 0.8991825133323879}}\n",
            "====epoch 119\n",
            "{'Train': {'rocauc': 0.9307974240585998}, 'Validation': {'rocauc': 0.8990414087393458}}\n",
            "====epoch 120\n",
            "{'Train': {'rocauc': 0.930675747003291}, 'Validation': {'rocauc': 0.8991285885551162}}\n",
            "====epoch 121\n",
            "{'Train': {'rocauc': 0.9305565619591842}, 'Validation': {'rocauc': 0.89881556181862}}\n",
            "====epoch 122\n",
            "{'Train': {'rocauc': 0.9307023526308065}, 'Validation': {'rocauc': 0.8991585567529382}}\n",
            "====epoch 123\n",
            "Best Epoch: 123\n",
            "{'Train': {'rocauc': 0.9308585219388589}, 'Validation': {'rocauc': 0.899502869641499}}\n",
            "====epoch 124\n",
            "{'Train': {'rocauc': 0.9306608704494761}, 'Validation': {'rocauc': 0.8989713837204606}}\n",
            "====epoch 125\n",
            "{'Train': {'rocauc': 0.9306973353269926}, 'Validation': {'rocauc': 0.8991104994072819}}\n",
            "====epoch 126\n",
            "{'Train': {'rocauc': 0.9307238433922067}, 'Validation': {'rocauc': 0.8991264680021688}}\n",
            "====epoch 127\n",
            "{'Train': {'rocauc': 0.9306558977571154}, 'Validation': {'rocauc': 0.8992003082969166}}\n",
            "====epoch 128\n",
            "{'Train': {'rocauc': 0.9306832939802256}, 'Validation': {'rocauc': 0.8992788475357277}}\n",
            "====epoch 129\n",
            "{'Train': {'rocauc': 0.9307182581382287}, 'Validation': {'rocauc': 0.8992988888771767}}\n",
            "====epoch 130\n",
            "{'Train': {'rocauc': 0.9306482739341556}, 'Validation': {'rocauc': 0.8990531432900378}}\n",
            "====epoch 131\n",
            "{'Train': {'rocauc': 0.930783305032866}, 'Validation': {'rocauc': 0.8994271355173628}}\n",
            "====epoch 132\n",
            "{'Train': {'rocauc': 0.9307929928093776}, 'Validation': {'rocauc': 0.8993258938291371}}\n",
            "====epoch 133\n",
            "{'Train': {'rocauc': 0.9308538694366361}, 'Validation': {'rocauc': 0.8992681710130163}}\n",
            "====epoch 134\n",
            "{'Train': {'rocauc': 0.9307456130370503}, 'Validation': {'rocauc': 0.8991310000011753}}\n",
            "====epoch 135\n",
            "{'Train': {'rocauc': 0.9308147122905094}, 'Validation': {'rocauc': 0.8988857161763292}}\n",
            "====epoch 136\n",
            "{'Train': {'rocauc': 0.930714893326929}, 'Validation': {'rocauc': 0.899157862419433}}\n",
            "====epoch 137\n",
            "{'Train': {'rocauc': 0.9306629605395114}, 'Validation': {'rocauc': 0.8991071384237636}}\n",
            "====epoch 138\n",
            "{'Train': {'rocauc': 0.9307443206271698}, 'Validation': {'rocauc': 0.8992058506725525}}\n",
            "====epoch 139\n",
            "{'Train': {'rocauc': 0.9307762921751911}, 'Validation': {'rocauc': 0.8990189033216064}}\n",
            "====epoch 140\n",
            "{'Train': {'rocauc': 0.9306109446033791}, 'Validation': {'rocauc': 0.8991163295495815}}\n",
            "====epoch 141\n",
            "{'Train': {'rocauc': 0.930796967643117}, 'Validation': {'rocauc': 0.8991386905842006}}\n",
            "====epoch 142\n",
            "{'Train': {'rocauc': 0.9308372665492316}, 'Validation': {'rocauc': 0.8992425756406353}}\n",
            "====epoch 143\n",
            "{'Train': {'rocauc': 0.9308706231459046}, 'Validation': {'rocauc': 0.8994234830661904}}\n",
            "====epoch 144\n",
            "{'Train': {'rocauc': 0.9307527154796235}, 'Validation': {'rocauc': 0.8989832401183443}}\n",
            "====epoch 145\n",
            "{'Train': {'rocauc': 0.9304008094248607}, 'Validation': {'rocauc': 0.8989873414468458}}\n",
            "====epoch 146\n",
            "{'Train': {'rocauc': 0.9305342407596835}, 'Validation': {'rocauc': 0.8990605527317541}}\n",
            "====epoch 147\n",
            "{'Train': {'rocauc': 0.930684342983061}, 'Validation': {'rocauc': 0.8993460467919139}}\n",
            "====epoch 148\n",
            "{'Train': {'rocauc': 0.9307689718710056}, 'Validation': {'rocauc': 0.8993395557484306}}\n",
            "====epoch 149\n",
            "{'Train': {'rocauc': 0.9307654976510014}, 'Validation': {'rocauc': 0.8991683057846881}}\n",
            "====epoch 150\n",
            "{'Train': {'rocauc': 0.930794346633976}, 'Validation': {'rocauc': 0.8991996464458465}}\n",
            "====epoch 151\n",
            "{'Train': {'rocauc': 0.9308435226361107}, 'Validation': {'rocauc': 0.8994413867039088}}\n",
            "====epoch 152\n",
            "{'Train': {'rocauc': 0.9306601071151492}, 'Validation': {'rocauc': 0.8990351731900873}}\n",
            "====epoch 153\n",
            "{'Train': {'rocauc': 0.9305988038852728}, 'Validation': {'rocauc': 0.8991417973305943}}\n",
            "====epoch 154\n",
            "{'Train': {'rocauc': 0.9307869564266573}, 'Validation': {'rocauc': 0.899371481836874}}\n",
            "====epoch 155\n",
            "{'Train': {'rocauc': 0.9308186870858625}, 'Validation': {'rocauc': 0.899496706948295}}\n",
            "====epoch 156\n",
            "{'Train': {'rocauc': 0.9306596339157438}, 'Validation': {'rocauc': 0.899373450846296}}\n",
            "====epoch 157\n",
            "{'Train': {'rocauc': 0.930874622981181}, 'Validation': {'rocauc': 0.8993979666773706}}\n",
            "====epoch 158\n",
            "{'Train': {'rocauc': 0.9306800421730856}, 'Validation': {'rocauc': 0.8993274773153156}}\n",
            "====epoch 159\n"
          ]
        }
      ],
      "source": [
        "# Training\n",
        "best_score_so_far = 0.78\n",
        "device = torch.device(\"cuda\") if torch.cuda.is_available() else torch.device(\"cpu\")\n",
        "\n",
        "from sklearn.model_selection import KFold\n",
        "from torch.utils.data import SubsetRandomSampler\n",
        "\n",
        "# Number of folds for cross-validation\n",
        "k_folds = 5\n",
        "kfold = KFold(n_splits=k_folds, shuffle=True)\n",
        "\n",
        "for fold, (train_ids, test_ids) in enumerate(kfold.split(new_train_dataset)):\n",
        "    print(f'FOLD {fold}')\n",
        "    print('--------------------------------')\n",
        "\n",
        "    # Subset data for this fold\n",
        "    train_subsampler = SubsetRandomSampler(train_ids)\n",
        "    test_subsampler = SubsetRandomSampler(test_ids)\n",
        "\n",
        "    # DataLoader instantiation\n",
        "    train_loader = MyDataLoader(new_train_dataset, batch_size=32, sampler=train_subsampler)\n",
        "    val_loader = MyDataLoader(new_train_dataset, batch_size=32, sampler=test_subsampler)\n",
        "\n",
        "    print(\"Start training...\")\n",
        "    for epoch in range(1, 200):\n",
        "        print(\"====epoch \" + str(epoch))\n",
        "        train(model, device, train_loader, optimizer)\n",
        "\n",
        "        # evaluating using the ROC - AUC score\n",
        "        train_accuracy = eval(model, device, train_loader)\n",
        "        val_accuracy = eval(model, device, val_loader)\n",
        "        scheduler.step()\n",
        "\n",
        "        if val_accuracy[\"rocauc\"] > best_score_so_far:\n",
        "          best_score_so_far = val_accuracy[\"rocauc\"]\n",
        "          torch.save(model.state_dict(), \"model.pth\")\n",
        "          print(f\"Best Epoch: {epoch}\")\n",
        "\n",
        "        print({'Train': train_accuracy, 'Validation': val_accuracy})"
      ]
    },
    {
      "cell_type": "code",
      "execution_count": null,
      "metadata": {
        "id": "wMKZk1Ft4ij4"
      },
      "outputs": [],
      "source": []
    }
  ],
  "metadata": {
    "colab": {
      "provenance": []
    },
    "kernelspec": {
      "display_name": "Python 3 (ipykernel)",
      "language": "python",
      "name": "python3"
    },
    "language_info": {
      "codemirror_mode": {
        "name": "ipython",
        "version": 3
      },
      "file_extension": ".py",
      "mimetype": "text/x-python",
      "name": "python",
      "nbconvert_exporter": "python",
      "pygments_lexer": "ipython3",
      "version": "3.11.2"
    }
  },
  "nbformat": 4,
  "nbformat_minor": 0
}
